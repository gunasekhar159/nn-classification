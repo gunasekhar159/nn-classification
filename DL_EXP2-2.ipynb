{
  "nbformat": 4,
  "nbformat_minor": 0,
  "metadata": {
    "colab": {
      "provenance": []
    },
    "kernelspec": {
      "name": "python3",
      "display_name": "Python 3"
    },
    "language_info": {
      "name": "python"
    }
  },
  "cells": [
    {
      "cell_type": "code",
      "execution_count": 73,
      "metadata": {
        "id": "0DWwrz2ZdoV2"
      },
      "outputs": [],
      "source": [
        "import pandas as pd\n",
        "from sklearn.model_selection import train_test_split\n",
        "from tensorflow.keras.models import Sequential\n",
        "from tensorflow.keras.models import load_model\n",
        "import pickle\n",
        "from tensorflow.keras.layers import Dense\n",
        "from tensorflow.keras.layers import Dropout\n",
        "from tensorflow.keras.layers import BatchNormalization\n",
        "import tensorflow as tf\n",
        "import seaborn as sns\n",
        "from tensorflow.keras.callbacks import EarlyStopping\n",
        "from sklearn.preprocessing import MinMaxScaler\n",
        "from sklearn.preprocessing import LabelEncoder\n",
        "from sklearn.preprocessing import OneHotEncoder\n",
        "from sklearn.preprocessing import OrdinalEncoder\n",
        "from sklearn.metrics import classification_report,confusion_matrix\n",
        "import numpy as np\n",
        "import matplotlib.pylab as plt\n",
        "import sklearn.metrics as metrics"
      ]
    },
    {
      "cell_type": "code",
      "source": [
        "customer_df = pd.read_csv('customers.csv')"
      ],
      "metadata": {
        "id": "-MyIPaLde6gO"
      },
      "execution_count": 74,
      "outputs": []
    },
    {
      "cell_type": "code",
      "source": [
        "customer_df.columns"
      ],
      "metadata": {
        "colab": {
          "base_uri": "https://localhost:8080/"
        },
        "id": "COSz6Jave6iN",
        "outputId": "b79a92d3-c2d1-4162-b3cb-892034eca412"
      },
      "execution_count": 75,
      "outputs": [
        {
          "output_type": "execute_result",
          "data": {
            "text/plain": [
              "Index(['ID', 'Gender', 'Ever_Married', 'Age', 'Graduated', 'Profession',\n",
              "       'Work_Experience', 'Spending_Score', 'Family_Size', 'Var_1',\n",
              "       'Segmentation'],\n",
              "      dtype='object')"
            ]
          },
          "metadata": {},
          "execution_count": 75
        }
      ]
    },
    {
      "cell_type": "code",
      "source": [
        "customer_df.dtypes"
      ],
      "metadata": {
        "colab": {
          "base_uri": "https://localhost:8080/"
        },
        "id": "e-Osk4d_e6ky",
        "outputId": "1843eb57-c671-49a8-f158-d622f69d65bc"
      },
      "execution_count": 76,
      "outputs": [
        {
          "output_type": "execute_result",
          "data": {
            "text/plain": [
              "ID                   int64\n",
              "Gender              object\n",
              "Ever_Married        object\n",
              "Age                  int64\n",
              "Graduated           object\n",
              "Profession          object\n",
              "Work_Experience    float64\n",
              "Spending_Score      object\n",
              "Family_Size        float64\n",
              "Var_1               object\n",
              "Segmentation        object\n",
              "dtype: object"
            ]
          },
          "metadata": {},
          "execution_count": 76
        }
      ]
    },
    {
      "cell_type": "code",
      "source": [
        "customer_df.shape\n"
      ],
      "metadata": {
        "colab": {
          "base_uri": "https://localhost:8080/"
        },
        "id": "ZY1_eGJEe6nI",
        "outputId": "d72510e3-2e16-4f04-a687-6951d0f3bb13"
      },
      "execution_count": 77,
      "outputs": [
        {
          "output_type": "execute_result",
          "data": {
            "text/plain": [
              "(10695, 11)"
            ]
          },
          "metadata": {},
          "execution_count": 77
        }
      ]
    },
    {
      "cell_type": "code",
      "source": [
        "customer_df.isnull().sum()"
      ],
      "metadata": {
        "colab": {
          "base_uri": "https://localhost:8080/"
        },
        "id": "dXYOqZWge6pu",
        "outputId": "6d84f690-e95c-42a1-f940-2e2fcb37b673"
      },
      "execution_count": 78,
      "outputs": [
        {
          "output_type": "execute_result",
          "data": {
            "text/plain": [
              "ID                    0\n",
              "Gender                0\n",
              "Ever_Married        190\n",
              "Age                   0\n",
              "Graduated           102\n",
              "Profession          162\n",
              "Work_Experience    1098\n",
              "Spending_Score        0\n",
              "Family_Size         448\n",
              "Var_1               108\n",
              "Segmentation          0\n",
              "dtype: int64"
            ]
          },
          "metadata": {},
          "execution_count": 78
        }
      ]
    },
    {
      "cell_type": "code",
      "source": [
        "customer_df_cleaned = customer_df.dropna(axis=0)"
      ],
      "metadata": {
        "id": "AmHL1_-VgFSr"
      },
      "execution_count": 79,
      "outputs": []
    },
    {
      "cell_type": "code",
      "source": [
        "customer_df_cleaned.isnull().sum()"
      ],
      "metadata": {
        "colab": {
          "base_uri": "https://localhost:8080/"
        },
        "id": "n2q-qdd0gFV9",
        "outputId": "18b97c63-5032-4ee3-9e0f-c218301d2bd4"
      },
      "execution_count": 80,
      "outputs": [
        {
          "output_type": "execute_result",
          "data": {
            "text/plain": [
              "ID                 0\n",
              "Gender             0\n",
              "Ever_Married       0\n",
              "Age                0\n",
              "Graduated          0\n",
              "Profession         0\n",
              "Work_Experience    0\n",
              "Spending_Score     0\n",
              "Family_Size        0\n",
              "Var_1              0\n",
              "Segmentation       0\n",
              "dtype: int64"
            ]
          },
          "metadata": {},
          "execution_count": 80
        }
      ]
    },
    {
      "cell_type": "code",
      "source": [
        "customer_df_cleaned.shape"
      ],
      "metadata": {
        "colab": {
          "base_uri": "https://localhost:8080/"
        },
        "id": "LdIunDdcgFZq",
        "outputId": "a57f73ea-cf11-4e88-ce82-d2c5351b918b"
      },
      "execution_count": 81,
      "outputs": [
        {
          "output_type": "execute_result",
          "data": {
            "text/plain": [
              "(8819, 11)"
            ]
          },
          "metadata": {},
          "execution_count": 81
        }
      ]
    },
    {
      "cell_type": "code",
      "source": [
        "customer_df_cleaned.dtypes"
      ],
      "metadata": {
        "colab": {
          "base_uri": "https://localhost:8080/"
        },
        "id": "EujEIjKLgFfL",
        "outputId": "2e8d5f8c-084c-442b-ca37-77244d488391"
      },
      "execution_count": 82,
      "outputs": [
        {
          "output_type": "execute_result",
          "data": {
            "text/plain": [
              "ID                   int64\n",
              "Gender              object\n",
              "Ever_Married        object\n",
              "Age                  int64\n",
              "Graduated           object\n",
              "Profession          object\n",
              "Work_Experience    float64\n",
              "Spending_Score      object\n",
              "Family_Size        float64\n",
              "Var_1               object\n",
              "Segmentation        object\n",
              "dtype: object"
            ]
          },
          "metadata": {},
          "execution_count": 82
        }
      ]
    },
    {
      "cell_type": "code",
      "source": [
        "customer_df_cleaned['Gender'].unique()"
      ],
      "metadata": {
        "colab": {
          "base_uri": "https://localhost:8080/"
        },
        "id": "x3UFth7hgFmJ",
        "outputId": "9c8965d7-56f8-41fc-8b34-a3801aceb115"
      },
      "execution_count": 83,
      "outputs": [
        {
          "output_type": "execute_result",
          "data": {
            "text/plain": [
              "array(['Male', 'Female'], dtype=object)"
            ]
          },
          "metadata": {},
          "execution_count": 83
        }
      ]
    },
    {
      "cell_type": "code",
      "source": [
        "customer_df_cleaned['Ever_Married'].unique()"
      ],
      "metadata": {
        "colab": {
          "base_uri": "https://localhost:8080/"
        },
        "id": "Rx9YHWRZgUgV",
        "outputId": "83115e32-bca7-4901-c442-5e89e7bd9bd1"
      },
      "execution_count": 84,
      "outputs": [
        {
          "output_type": "execute_result",
          "data": {
            "text/plain": [
              "array(['No', 'Yes'], dtype=object)"
            ]
          },
          "metadata": {},
          "execution_count": 84
        }
      ]
    },
    {
      "cell_type": "code",
      "source": [
        "customer_df_cleaned['Graduated'].unique()"
      ],
      "metadata": {
        "id": "kTJY8_RKgUi4",
        "colab": {
          "base_uri": "https://localhost:8080/"
        },
        "outputId": "e4553dc6-0041-4a5d-97d0-f2eb83407112"
      },
      "execution_count": 85,
      "outputs": [
        {
          "output_type": "execute_result",
          "data": {
            "text/plain": [
              "array(['No', 'Yes'], dtype=object)"
            ]
          },
          "metadata": {},
          "execution_count": 85
        }
      ]
    },
    {
      "cell_type": "code",
      "source": [
        "customer_df_cleaned['Profession'].unique()"
      ],
      "metadata": {
        "id": "9o83H44NgUlf",
        "colab": {
          "base_uri": "https://localhost:8080/"
        },
        "outputId": "ddc53f64-9b22-4b8c-a45c-cf8b322cf77d"
      },
      "execution_count": 86,
      "outputs": [
        {
          "output_type": "execute_result",
          "data": {
            "text/plain": [
              "array(['Healthcare', 'Engineer', 'Lawyer', 'Artist', 'Doctor',\n",
              "       'Homemaker', 'Entertainment', 'Marketing', 'Executive'],\n",
              "      dtype=object)"
            ]
          },
          "metadata": {},
          "execution_count": 86
        }
      ]
    },
    {
      "cell_type": "code",
      "source": [
        "customer_df_cleaned['Spending_Score'].unique()"
      ],
      "metadata": {
        "id": "xIHKw474gUn1",
        "colab": {
          "base_uri": "https://localhost:8080/"
        },
        "outputId": "d27ee770-0b56-4445-e649-150962954b10"
      },
      "execution_count": 87,
      "outputs": [
        {
          "output_type": "execute_result",
          "data": {
            "text/plain": [
              "array(['Low', 'High', 'Average'], dtype=object)"
            ]
          },
          "metadata": {},
          "execution_count": 87
        }
      ]
    },
    {
      "cell_type": "code",
      "source": [
        "customer_df_cleaned['Var_1'].unique()"
      ],
      "metadata": {
        "colab": {
          "base_uri": "https://localhost:8080/"
        },
        "id": "RIes5VDtd2K9",
        "outputId": "14a0d070-8922-42de-d9c7-4cd96b65be32"
      },
      "execution_count": 88,
      "outputs": [
        {
          "output_type": "execute_result",
          "data": {
            "text/plain": [
              "array(['Cat_4', 'Cat_6', 'Cat_7', 'Cat_3', 'Cat_1', 'Cat_2', 'Cat_5'],\n",
              "      dtype=object)"
            ]
          },
          "metadata": {},
          "execution_count": 88
        }
      ]
    },
    {
      "cell_type": "code",
      "source": [
        "customer_df_cleaned['Segmentation'].unique()"
      ],
      "metadata": {
        "colab": {
          "base_uri": "https://localhost:8080/"
        },
        "id": "Jhv7oHnmd2NI",
        "outputId": "ddcad7a5-d325-4d9f-d3fc-be2b5db41439"
      },
      "execution_count": 89,
      "outputs": [
        {
          "output_type": "execute_result",
          "data": {
            "text/plain": [
              "array(['D', 'B', 'C', 'A'], dtype=object)"
            ]
          },
          "metadata": {},
          "execution_count": 89
        }
      ]
    },
    {
      "cell_type": "code",
      "source": [
        "categories_list=[['Male', 'Female'],\n",
        "           ['No', 'Yes'],\n",
        "           ['No', 'Yes'],\n",
        "           ['Healthcare', 'Engineer', 'Lawyer', 'Artist', 'Doctor',\n",
        "            'Homemaker', 'Entertainment', 'Marketing', 'Executive'],\n",
        "           ['Low', 'Average', 'High']\n",
        "           ]\n",
        "enc = OrdinalEncoder(categories=categories_list)"
      ],
      "metadata": {
        "id": "1sA6Frfqd2Pw"
      },
      "execution_count": 90,
      "outputs": []
    },
    {
      "cell_type": "code",
      "source": [
        "customers_1 = customer_df_cleaned.copy()"
      ],
      "metadata": {
        "id": "Cj7I0Nf9d2SG"
      },
      "execution_count": 91,
      "outputs": []
    },
    {
      "cell_type": "code",
      "source": [
        "customers_1[['Gender',\n",
        "             'Ever_Married',\n",
        "              'Graduated','Profession',\n",
        "              'Spending_Score']] = enc.fit_transform(customers_1[['Gender',\n",
        "                                                                 'Ever_Married',\n",
        "                                                                 'Graduated','Profession',\n",
        "                                                                 'Spending_Score']])"
      ],
      "metadata": {
        "id": "r9y8MPPkd2Us"
      },
      "execution_count": 92,
      "outputs": []
    },
    {
      "cell_type": "code",
      "source": [
        "customers_1.dtypes"
      ],
      "metadata": {
        "colab": {
          "base_uri": "https://localhost:8080/"
        },
        "id": "WcUbmiPPd2XD",
        "outputId": "fe605b6e-b751-4363-ceae-06272a041947"
      },
      "execution_count": 93,
      "outputs": [
        {
          "output_type": "execute_result",
          "data": {
            "text/plain": [
              "ID                   int64\n",
              "Gender             float64\n",
              "Ever_Married       float64\n",
              "Age                  int64\n",
              "Graduated          float64\n",
              "Profession         float64\n",
              "Work_Experience    float64\n",
              "Spending_Score     float64\n",
              "Family_Size        float64\n",
              "Var_1               object\n",
              "Segmentation        object\n",
              "dtype: object"
            ]
          },
          "metadata": {},
          "execution_count": 93
        }
      ]
    },
    {
      "cell_type": "code",
      "source": [
        "le = LabelEncoder()\n",
        "\n",
        "customers_1['Segmentation'] = le.fit_transform(customers_1['Segmentation'])"
      ],
      "metadata": {
        "id": "0fmCZy__ehZ3"
      },
      "execution_count": 94,
      "outputs": []
    },
    {
      "cell_type": "code",
      "source": [
        "customers_1.dtypes"
      ],
      "metadata": {
        "colab": {
          "base_uri": "https://localhost:8080/"
        },
        "id": "l5OaNwa7ehcH",
        "outputId": "dab3cb38-e541-4c61-a0f3-67adc2d080a6"
      },
      "execution_count": 95,
      "outputs": [
        {
          "output_type": "execute_result",
          "data": {
            "text/plain": [
              "ID                   int64\n",
              "Gender             float64\n",
              "Ever_Married       float64\n",
              "Age                  int64\n",
              "Graduated          float64\n",
              "Profession         float64\n",
              "Work_Experience    float64\n",
              "Spending_Score     float64\n",
              "Family_Size        float64\n",
              "Var_1               object\n",
              "Segmentation         int64\n",
              "dtype: object"
            ]
          },
          "metadata": {},
          "execution_count": 95
        }
      ]
    },
    {
      "cell_type": "code",
      "source": [
        "customers_1 = customers_1.drop('ID',axis=1)\n",
        "customers_1 = customers_1.drop('Var_1',axis=1)\n",
        "\n",
        "customers_1.dtypes"
      ],
      "metadata": {
        "colab": {
          "base_uri": "https://localhost:8080/"
        },
        "id": "NDwnL-F4eheq",
        "outputId": "910cad3b-d422-450b-8862-bb23596cc580"
      },
      "execution_count": 96,
      "outputs": [
        {
          "output_type": "execute_result",
          "data": {
            "text/plain": [
              "Gender             float64\n",
              "Ever_Married       float64\n",
              "Age                  int64\n",
              "Graduated          float64\n",
              "Profession         float64\n",
              "Work_Experience    float64\n",
              "Spending_Score     float64\n",
              "Family_Size        float64\n",
              "Segmentation         int64\n",
              "dtype: object"
            ]
          },
          "metadata": {},
          "execution_count": 96
        }
      ]
    },
    {
      "cell_type": "code",
      "source": [
        "customers_1['Segmentation'].unique()"
      ],
      "metadata": {
        "colab": {
          "base_uri": "https://localhost:8080/"
        },
        "id": "pj-KWneRehhB",
        "outputId": "2230a6f5-03e9-4ed4-eb6e-c8891f5367bb"
      },
      "execution_count": 97,
      "outputs": [
        {
          "output_type": "execute_result",
          "data": {
            "text/plain": [
              "array([3, 1, 2, 0])"
            ]
          },
          "metadata": {},
          "execution_count": 97
        }
      ]
    },
    {
      "cell_type": "code",
      "source": [
        "X=customers_1[['Gender','Ever_Married','Age','Graduated','Profession','Work_Experience','Spending_Score','Family_Size']].values\n",
        "\n",
        "y1 = customers_1[['Segmentation']].values\n",
        "\n",
        "one_hot_enc = OneHotEncoder()\n",
        "\n",
        "one_hot_enc.fit(y1)"
      ],
      "metadata": {
        "colab": {
          "base_uri": "https://localhost:8080/",
          "height": 93
        },
        "id": "LZXrBY1Sehjn",
        "outputId": "e4cad5de-3b3b-412f-d8eb-6c352a07854f"
      },
      "execution_count": 98,
      "outputs": [
        {
          "output_type": "execute_result",
          "data": {
            "text/plain": [
              "OneHotEncoder()"
            ],
            "text/html": [
              "<style>#sk-container-id-3 {color: black;background-color: white;}#sk-container-id-3 pre{padding: 0;}#sk-container-id-3 div.sk-toggleable {background-color: white;}#sk-container-id-3 label.sk-toggleable__label {cursor: pointer;display: block;width: 100%;margin-bottom: 0;padding: 0.3em;box-sizing: border-box;text-align: center;}#sk-container-id-3 label.sk-toggleable__label-arrow:before {content: \"▸\";float: left;margin-right: 0.25em;color: #696969;}#sk-container-id-3 label.sk-toggleable__label-arrow:hover:before {color: black;}#sk-container-id-3 div.sk-estimator:hover label.sk-toggleable__label-arrow:before {color: black;}#sk-container-id-3 div.sk-toggleable__content {max-height: 0;max-width: 0;overflow: hidden;text-align: left;background-color: #f0f8ff;}#sk-container-id-3 div.sk-toggleable__content pre {margin: 0.2em;color: black;border-radius: 0.25em;background-color: #f0f8ff;}#sk-container-id-3 input.sk-toggleable__control:checked~div.sk-toggleable__content {max-height: 200px;max-width: 100%;overflow: auto;}#sk-container-id-3 input.sk-toggleable__control:checked~label.sk-toggleable__label-arrow:before {content: \"▾\";}#sk-container-id-3 div.sk-estimator input.sk-toggleable__control:checked~label.sk-toggleable__label {background-color: #d4ebff;}#sk-container-id-3 div.sk-label input.sk-toggleable__control:checked~label.sk-toggleable__label {background-color: #d4ebff;}#sk-container-id-3 input.sk-hidden--visually {border: 0;clip: rect(1px 1px 1px 1px);clip: rect(1px, 1px, 1px, 1px);height: 1px;margin: -1px;overflow: hidden;padding: 0;position: absolute;width: 1px;}#sk-container-id-3 div.sk-estimator {font-family: monospace;background-color: #f0f8ff;border: 1px dotted black;border-radius: 0.25em;box-sizing: border-box;margin-bottom: 0.5em;}#sk-container-id-3 div.sk-estimator:hover {background-color: #d4ebff;}#sk-container-id-3 div.sk-parallel-item::after {content: \"\";width: 100%;border-bottom: 1px solid gray;flex-grow: 1;}#sk-container-id-3 div.sk-label:hover label.sk-toggleable__label {background-color: #d4ebff;}#sk-container-id-3 div.sk-serial::before {content: \"\";position: absolute;border-left: 1px solid gray;box-sizing: border-box;top: 0;bottom: 0;left: 50%;z-index: 0;}#sk-container-id-3 div.sk-serial {display: flex;flex-direction: column;align-items: center;background-color: white;padding-right: 0.2em;padding-left: 0.2em;position: relative;}#sk-container-id-3 div.sk-item {position: relative;z-index: 1;}#sk-container-id-3 div.sk-parallel {display: flex;align-items: stretch;justify-content: center;background-color: white;position: relative;}#sk-container-id-3 div.sk-item::before, #sk-container-id-3 div.sk-parallel-item::before {content: \"\";position: absolute;border-left: 1px solid gray;box-sizing: border-box;top: 0;bottom: 0;left: 50%;z-index: -1;}#sk-container-id-3 div.sk-parallel-item {display: flex;flex-direction: column;z-index: 1;position: relative;background-color: white;}#sk-container-id-3 div.sk-parallel-item:first-child::after {align-self: flex-end;width: 50%;}#sk-container-id-3 div.sk-parallel-item:last-child::after {align-self: flex-start;width: 50%;}#sk-container-id-3 div.sk-parallel-item:only-child::after {width: 0;}#sk-container-id-3 div.sk-dashed-wrapped {border: 1px dashed gray;margin: 0 0.4em 0.5em 0.4em;box-sizing: border-box;padding-bottom: 0.4em;background-color: white;}#sk-container-id-3 div.sk-label label {font-family: monospace;font-weight: bold;display: inline-block;line-height: 1.2em;}#sk-container-id-3 div.sk-label-container {text-align: center;}#sk-container-id-3 div.sk-container {/* jupyter's `normalize.less` sets `[hidden] { display: none; }` but bootstrap.min.css set `[hidden] { display: none !important; }` so we also need the `!important` here to be able to override the default hidden behavior on the sphinx rendered scikit-learn.org. See: https://github.com/scikit-learn/scikit-learn/issues/21755 */display: inline-block !important;position: relative;}#sk-container-id-3 div.sk-text-repr-fallback {display: none;}</style><div id=\"sk-container-id-3\" class=\"sk-top-container\"><div class=\"sk-text-repr-fallback\"><pre>OneHotEncoder()</pre><b>In a Jupyter environment, please rerun this cell to show the HTML representation or trust the notebook. <br />On GitHub, the HTML representation is unable to render, please try loading this page with nbviewer.org.</b></div><div class=\"sk-container\" hidden><div class=\"sk-item\"><div class=\"sk-estimator sk-toggleable\"><input class=\"sk-toggleable__control sk-hidden--visually\" id=\"sk-estimator-id-3\" type=\"checkbox\" checked><label for=\"sk-estimator-id-3\" class=\"sk-toggleable__label sk-toggleable__label-arrow\">OneHotEncoder</label><div class=\"sk-toggleable__content\"><pre>OneHotEncoder()</pre></div></div></div></div></div>"
            ]
          },
          "metadata": {},
          "execution_count": 98
        }
      ]
    },
    {
      "cell_type": "code",
      "source": [
        "y1.shape"
      ],
      "metadata": {
        "colab": {
          "base_uri": "https://localhost:8080/"
        },
        "id": "aU48DFW0ehmD",
        "outputId": "c1438ce8-7859-4112-a5d9-0e0c0943767d"
      },
      "execution_count": 99,
      "outputs": [
        {
          "output_type": "execute_result",
          "data": {
            "text/plain": [
              "(8819, 1)"
            ]
          },
          "metadata": {},
          "execution_count": 99
        }
      ]
    },
    {
      "cell_type": "code",
      "source": [
        "y = one_hot_enc.transform(y1).toarray()\n",
        "\n",
        "y.shape"
      ],
      "metadata": {
        "colab": {
          "base_uri": "https://localhost:8080/"
        },
        "id": "QeZOxTR4ehok",
        "outputId": "1124a3a3-d63a-4b09-86fa-8fa6d47ee560"
      },
      "execution_count": 100,
      "outputs": [
        {
          "output_type": "execute_result",
          "data": {
            "text/plain": [
              "(8819, 4)"
            ]
          },
          "metadata": {},
          "execution_count": 100
        }
      ]
    },
    {
      "cell_type": "code",
      "source": [
        "y1[0]"
      ],
      "metadata": {
        "colab": {
          "base_uri": "https://localhost:8080/"
        },
        "id": "a8A-kMsTehrP",
        "outputId": "3bb81d92-76d1-4a1f-8ea3-bcf4a42dadc8"
      },
      "execution_count": 101,
      "outputs": [
        {
          "output_type": "execute_result",
          "data": {
            "text/plain": [
              "array([3])"
            ]
          },
          "metadata": {},
          "execution_count": 101
        }
      ]
    },
    {
      "cell_type": "code",
      "source": [
        "y[0]"
      ],
      "metadata": {
        "colab": {
          "base_uri": "https://localhost:8080/"
        },
        "id": "xv_fX575e-z7",
        "outputId": "70191de6-7a28-478b-9d25-49d9efe29d9e"
      },
      "execution_count": 102,
      "outputs": [
        {
          "output_type": "execute_result",
          "data": {
            "text/plain": [
              "array([0., 0., 0., 1.])"
            ]
          },
          "metadata": {},
          "execution_count": 102
        }
      ]
    },
    {
      "cell_type": "code",
      "source": [
        "X.shape"
      ],
      "metadata": {
        "colab": {
          "base_uri": "https://localhost:8080/"
        },
        "id": "JV0DhbRXe-2F",
        "outputId": "edd9ca69-9905-4b9c-e09f-61faec0ad1dc"
      },
      "execution_count": 103,
      "outputs": [
        {
          "output_type": "execute_result",
          "data": {
            "text/plain": [
              "(8819, 8)"
            ]
          },
          "metadata": {},
          "execution_count": 103
        }
      ]
    },
    {
      "cell_type": "code",
      "source": [
        "X_train,X_test,y_train,y_test=train_test_split(X,y,\n",
        "                                               test_size=0.33,\n",
        "                                               random_state=50)\n",
        "\n",
        "X_train[0]"
      ],
      "metadata": {
        "colab": {
          "base_uri": "https://localhost:8080/"
        },
        "id": "Cdn0hVf1e-4s",
        "outputId": "ae70344d-e103-4629-f452-d96707a23c77"
      },
      "execution_count": 104,
      "outputs": [
        {
          "output_type": "execute_result",
          "data": {
            "text/plain": [
              "array([ 1.,  1., 85.,  0.,  2.,  0.,  0.,  1.])"
            ]
          },
          "metadata": {},
          "execution_count": 104
        }
      ]
    },
    {
      "cell_type": "code",
      "source": [
        "X_train.shape"
      ],
      "metadata": {
        "colab": {
          "base_uri": "https://localhost:8080/"
        },
        "id": "KQAVqGIFe-7Y",
        "outputId": "8b0bc554-6dfb-47e1-c553-0ea207cce529"
      },
      "execution_count": 105,
      "outputs": [
        {
          "output_type": "execute_result",
          "data": {
            "text/plain": [
              "(5908, 8)"
            ]
          },
          "metadata": {},
          "execution_count": 105
        }
      ]
    },
    {
      "cell_type": "code",
      "source": [
        "scaler_age = MinMaxScaler()\n",
        "\n",
        "scaler_age.fit(X_train[:,2].reshape(-1,1))"
      ],
      "metadata": {
        "colab": {
          "base_uri": "https://localhost:8080/",
          "height": 93
        },
        "id": "wNX8mZp3ehtx",
        "outputId": "96d4cb73-7b6e-46e4-93cf-4814f7f47cd5"
      },
      "execution_count": 106,
      "outputs": [
        {
          "output_type": "execute_result",
          "data": {
            "text/plain": [
              "MinMaxScaler()"
            ],
            "text/html": [
              "<style>#sk-container-id-4 {color: black;background-color: white;}#sk-container-id-4 pre{padding: 0;}#sk-container-id-4 div.sk-toggleable {background-color: white;}#sk-container-id-4 label.sk-toggleable__label {cursor: pointer;display: block;width: 100%;margin-bottom: 0;padding: 0.3em;box-sizing: border-box;text-align: center;}#sk-container-id-4 label.sk-toggleable__label-arrow:before {content: \"▸\";float: left;margin-right: 0.25em;color: #696969;}#sk-container-id-4 label.sk-toggleable__label-arrow:hover:before {color: black;}#sk-container-id-4 div.sk-estimator:hover label.sk-toggleable__label-arrow:before {color: black;}#sk-container-id-4 div.sk-toggleable__content {max-height: 0;max-width: 0;overflow: hidden;text-align: left;background-color: #f0f8ff;}#sk-container-id-4 div.sk-toggleable__content pre {margin: 0.2em;color: black;border-radius: 0.25em;background-color: #f0f8ff;}#sk-container-id-4 input.sk-toggleable__control:checked~div.sk-toggleable__content {max-height: 200px;max-width: 100%;overflow: auto;}#sk-container-id-4 input.sk-toggleable__control:checked~label.sk-toggleable__label-arrow:before {content: \"▾\";}#sk-container-id-4 div.sk-estimator input.sk-toggleable__control:checked~label.sk-toggleable__label {background-color: #d4ebff;}#sk-container-id-4 div.sk-label input.sk-toggleable__control:checked~label.sk-toggleable__label {background-color: #d4ebff;}#sk-container-id-4 input.sk-hidden--visually {border: 0;clip: rect(1px 1px 1px 1px);clip: rect(1px, 1px, 1px, 1px);height: 1px;margin: -1px;overflow: hidden;padding: 0;position: absolute;width: 1px;}#sk-container-id-4 div.sk-estimator {font-family: monospace;background-color: #f0f8ff;border: 1px dotted black;border-radius: 0.25em;box-sizing: border-box;margin-bottom: 0.5em;}#sk-container-id-4 div.sk-estimator:hover {background-color: #d4ebff;}#sk-container-id-4 div.sk-parallel-item::after {content: \"\";width: 100%;border-bottom: 1px solid gray;flex-grow: 1;}#sk-container-id-4 div.sk-label:hover label.sk-toggleable__label {background-color: #d4ebff;}#sk-container-id-4 div.sk-serial::before {content: \"\";position: absolute;border-left: 1px solid gray;box-sizing: border-box;top: 0;bottom: 0;left: 50%;z-index: 0;}#sk-container-id-4 div.sk-serial {display: flex;flex-direction: column;align-items: center;background-color: white;padding-right: 0.2em;padding-left: 0.2em;position: relative;}#sk-container-id-4 div.sk-item {position: relative;z-index: 1;}#sk-container-id-4 div.sk-parallel {display: flex;align-items: stretch;justify-content: center;background-color: white;position: relative;}#sk-container-id-4 div.sk-item::before, #sk-container-id-4 div.sk-parallel-item::before {content: \"\";position: absolute;border-left: 1px solid gray;box-sizing: border-box;top: 0;bottom: 0;left: 50%;z-index: -1;}#sk-container-id-4 div.sk-parallel-item {display: flex;flex-direction: column;z-index: 1;position: relative;background-color: white;}#sk-container-id-4 div.sk-parallel-item:first-child::after {align-self: flex-end;width: 50%;}#sk-container-id-4 div.sk-parallel-item:last-child::after {align-self: flex-start;width: 50%;}#sk-container-id-4 div.sk-parallel-item:only-child::after {width: 0;}#sk-container-id-4 div.sk-dashed-wrapped {border: 1px dashed gray;margin: 0 0.4em 0.5em 0.4em;box-sizing: border-box;padding-bottom: 0.4em;background-color: white;}#sk-container-id-4 div.sk-label label {font-family: monospace;font-weight: bold;display: inline-block;line-height: 1.2em;}#sk-container-id-4 div.sk-label-container {text-align: center;}#sk-container-id-4 div.sk-container {/* jupyter's `normalize.less` sets `[hidden] { display: none; }` but bootstrap.min.css set `[hidden] { display: none !important; }` so we also need the `!important` here to be able to override the default hidden behavior on the sphinx rendered scikit-learn.org. See: https://github.com/scikit-learn/scikit-learn/issues/21755 */display: inline-block !important;position: relative;}#sk-container-id-4 div.sk-text-repr-fallback {display: none;}</style><div id=\"sk-container-id-4\" class=\"sk-top-container\"><div class=\"sk-text-repr-fallback\"><pre>MinMaxScaler()</pre><b>In a Jupyter environment, please rerun this cell to show the HTML representation or trust the notebook. <br />On GitHub, the HTML representation is unable to render, please try loading this page with nbviewer.org.</b></div><div class=\"sk-container\" hidden><div class=\"sk-item\"><div class=\"sk-estimator sk-toggleable\"><input class=\"sk-toggleable__control sk-hidden--visually\" id=\"sk-estimator-id-4\" type=\"checkbox\" checked><label for=\"sk-estimator-id-4\" class=\"sk-toggleable__label sk-toggleable__label-arrow\">MinMaxScaler</label><div class=\"sk-toggleable__content\"><pre>MinMaxScaler()</pre></div></div></div></div></div>"
            ]
          },
          "metadata": {},
          "execution_count": 106
        }
      ]
    },
    {
      "cell_type": "code",
      "source": [
        "X_train_scaled = np.copy(X_train)\n",
        "X_test_scaled = np.copy(X_test)"
      ],
      "metadata": {
        "id": "n2hJv0ZFehwk"
      },
      "execution_count": 107,
      "outputs": []
    },
    {
      "cell_type": "code",
      "source": [
        "# To scale the Age column\n",
        "X_train_scaled[:,2] = scaler_age.transform(X_train[:,2].reshape(-1,1)).reshape(-1)\n",
        "X_test_scaled[:,2] = scaler_age.transform(X_test[:,2].reshape(-1,1)).reshape(-1)"
      ],
      "metadata": {
        "id": "DqJoD1HUfU-5"
      },
      "execution_count": 108,
      "outputs": []
    },
    {
      "cell_type": "code",
      "source": [
        "# Creating the model\n",
        "ai_brain = Sequential([\n",
        "  Dense(units = 8, input_shape=[8]),\n",
        "  Dense(units =16, activation='relu'),\n",
        "\n",
        "  Dense(units =4, activation ='softmax')\n",
        "])"
      ],
      "metadata": {
        "id": "5jNscZEJfVBG"
      },
      "execution_count": 109,
      "outputs": []
    },
    {
      "cell_type": "code",
      "source": [
        "ai_brain.compile(optimizer='adam',\n",
        "                 loss='categorical_crossentropy',\n",
        "                 metrics=['accuracy'])"
      ],
      "metadata": {
        "id": "kHC75hlJfVDs"
      },
      "execution_count": 110,
      "outputs": []
    },
    {
      "cell_type": "code",
      "source": [
        "ai_brain.fit(x=X_train_scaled,y=y_train,\n",
        "             epochs=500,batch_size=256,\n",
        "             validation_data=(X_test_scaled,y_test),\n",
        "             )"
      ],
      "metadata": {
        "colab": {
          "base_uri": "https://localhost:8080/"
        },
        "id": "Qa5zehUPfVGJ",
        "outputId": "c6219601-ba7e-4b18-85d7-c5c4f324a216"
      },
      "execution_count": 111,
      "outputs": [
        {
          "output_type": "stream",
          "name": "stdout",
          "text": [
            "Epoch 1/500\n",
            "24/24 [==============================] - 1s 15ms/step - loss: 1.8881 - accuracy: 0.2302 - val_loss: 1.7085 - val_accuracy: 0.2508\n",
            "Epoch 2/500\n",
            "24/24 [==============================] - 0s 4ms/step - loss: 1.5874 - accuracy: 0.2524 - val_loss: 1.5050 - val_accuracy: 0.2693\n",
            "Epoch 3/500\n",
            "24/24 [==============================] - 0s 4ms/step - loss: 1.4421 - accuracy: 0.2833 - val_loss: 1.4192 - val_accuracy: 0.3057\n",
            "Epoch 4/500\n",
            "24/24 [==============================] - 0s 4ms/step - loss: 1.3823 - accuracy: 0.3311 - val_loss: 1.3820 - val_accuracy: 0.3435\n",
            "Epoch 5/500\n",
            "24/24 [==============================] - 0s 4ms/step - loss: 1.3537 - accuracy: 0.3590 - val_loss: 1.3619 - val_accuracy: 0.3648\n",
            "Epoch 6/500\n",
            "24/24 [==============================] - 0s 4ms/step - loss: 1.3362 - accuracy: 0.3829 - val_loss: 1.3478 - val_accuracy: 0.3810\n",
            "Epoch 7/500\n",
            "24/24 [==============================] - 0s 4ms/step - loss: 1.3241 - accuracy: 0.3913 - val_loss: 1.3372 - val_accuracy: 0.3823\n",
            "Epoch 8/500\n",
            "24/24 [==============================] - 0s 4ms/step - loss: 1.3144 - accuracy: 0.3896 - val_loss: 1.3276 - val_accuracy: 0.3789\n",
            "Epoch 9/500\n",
            "24/24 [==============================] - 0s 4ms/step - loss: 1.3058 - accuracy: 0.3940 - val_loss: 1.3191 - val_accuracy: 0.3834\n",
            "Epoch 10/500\n",
            "24/24 [==============================] - 0s 4ms/step - loss: 1.2974 - accuracy: 0.4025 - val_loss: 1.3106 - val_accuracy: 0.3834\n",
            "Epoch 11/500\n",
            "24/24 [==============================] - 0s 4ms/step - loss: 1.2890 - accuracy: 0.4069 - val_loss: 1.3032 - val_accuracy: 0.3885\n",
            "Epoch 12/500\n",
            "24/24 [==============================] - 0s 4ms/step - loss: 1.2821 - accuracy: 0.4059 - val_loss: 1.2964 - val_accuracy: 0.3896\n",
            "Epoch 13/500\n",
            "24/24 [==============================] - 0s 4ms/step - loss: 1.2765 - accuracy: 0.4076 - val_loss: 1.2905 - val_accuracy: 0.3940\n",
            "Epoch 14/500\n",
            "24/24 [==============================] - 0s 4ms/step - loss: 1.2707 - accuracy: 0.4056 - val_loss: 1.2856 - val_accuracy: 0.3937\n",
            "Epoch 15/500\n",
            "24/24 [==============================] - 0s 4ms/step - loss: 1.2656 - accuracy: 0.4089 - val_loss: 1.2810 - val_accuracy: 0.4071\n",
            "Epoch 16/500\n",
            "24/24 [==============================] - 0s 4ms/step - loss: 1.2609 - accuracy: 0.4193 - val_loss: 1.2767 - val_accuracy: 0.4060\n",
            "Epoch 17/500\n",
            "24/24 [==============================] - 0s 3ms/step - loss: 1.2569 - accuracy: 0.4204 - val_loss: 1.2734 - val_accuracy: 0.4109\n",
            "Epoch 18/500\n",
            "24/24 [==============================] - 0s 4ms/step - loss: 1.2535 - accuracy: 0.4220 - val_loss: 1.2696 - val_accuracy: 0.4129\n",
            "Epoch 19/500\n",
            "24/24 [==============================] - 0s 4ms/step - loss: 1.2511 - accuracy: 0.4284 - val_loss: 1.2676 - val_accuracy: 0.4184\n",
            "Epoch 20/500\n",
            "24/24 [==============================] - 0s 4ms/step - loss: 1.2486 - accuracy: 0.4287 - val_loss: 1.2656 - val_accuracy: 0.4212\n",
            "Epoch 21/500\n",
            "24/24 [==============================] - 0s 3ms/step - loss: 1.2470 - accuracy: 0.4309 - val_loss: 1.2633 - val_accuracy: 0.4232\n",
            "Epoch 22/500\n",
            "24/24 [==============================] - 0s 3ms/step - loss: 1.2446 - accuracy: 0.4321 - val_loss: 1.2611 - val_accuracy: 0.4236\n",
            "Epoch 23/500\n",
            "24/24 [==============================] - 0s 5ms/step - loss: 1.2426 - accuracy: 0.4331 - val_loss: 1.2597 - val_accuracy: 0.4239\n",
            "Epoch 24/500\n",
            "24/24 [==============================] - 0s 4ms/step - loss: 1.2411 - accuracy: 0.4369 - val_loss: 1.2582 - val_accuracy: 0.4280\n",
            "Epoch 25/500\n",
            "24/24 [==============================] - 0s 4ms/step - loss: 1.2397 - accuracy: 0.4364 - val_loss: 1.2572 - val_accuracy: 0.4253\n",
            "Epoch 26/500\n",
            "24/24 [==============================] - 0s 4ms/step - loss: 1.2387 - accuracy: 0.4352 - val_loss: 1.2554 - val_accuracy: 0.4260\n",
            "Epoch 27/500\n",
            "24/24 [==============================] - 0s 3ms/step - loss: 1.2361 - accuracy: 0.4399 - val_loss: 1.2543 - val_accuracy: 0.4256\n",
            "Epoch 28/500\n",
            "24/24 [==============================] - 0s 4ms/step - loss: 1.2346 - accuracy: 0.4418 - val_loss: 1.2525 - val_accuracy: 0.4325\n",
            "Epoch 29/500\n",
            "24/24 [==============================] - 0s 4ms/step - loss: 1.2330 - accuracy: 0.4428 - val_loss: 1.2510 - val_accuracy: 0.4346\n",
            "Epoch 30/500\n",
            "24/24 [==============================] - 0s 4ms/step - loss: 1.2321 - accuracy: 0.4425 - val_loss: 1.2495 - val_accuracy: 0.4328\n",
            "Epoch 31/500\n",
            "24/24 [==============================] - 0s 4ms/step - loss: 1.2314 - accuracy: 0.4447 - val_loss: 1.2483 - val_accuracy: 0.4328\n",
            "Epoch 32/500\n",
            "24/24 [==============================] - 0s 4ms/step - loss: 1.2302 - accuracy: 0.4457 - val_loss: 1.2465 - val_accuracy: 0.4287\n",
            "Epoch 33/500\n",
            "24/24 [==============================] - 0s 4ms/step - loss: 1.2286 - accuracy: 0.4421 - val_loss: 1.2461 - val_accuracy: 0.4318\n",
            "Epoch 34/500\n",
            "24/24 [==============================] - 0s 4ms/step - loss: 1.2268 - accuracy: 0.4462 - val_loss: 1.2451 - val_accuracy: 0.4311\n",
            "Epoch 35/500\n",
            "24/24 [==============================] - 0s 4ms/step - loss: 1.2256 - accuracy: 0.4489 - val_loss: 1.2437 - val_accuracy: 0.4335\n",
            "Epoch 36/500\n",
            "24/24 [==============================] - 0s 4ms/step - loss: 1.2247 - accuracy: 0.4497 - val_loss: 1.2424 - val_accuracy: 0.4332\n",
            "Epoch 37/500\n",
            "24/24 [==============================] - 0s 4ms/step - loss: 1.2237 - accuracy: 0.4504 - val_loss: 1.2413 - val_accuracy: 0.4377\n",
            "Epoch 38/500\n",
            "24/24 [==============================] - 0s 4ms/step - loss: 1.2227 - accuracy: 0.4491 - val_loss: 1.2413 - val_accuracy: 0.4311\n",
            "Epoch 39/500\n",
            "24/24 [==============================] - 0s 4ms/step - loss: 1.2217 - accuracy: 0.4526 - val_loss: 1.2402 - val_accuracy: 0.4380\n",
            "Epoch 40/500\n",
            "24/24 [==============================] - 0s 4ms/step - loss: 1.2207 - accuracy: 0.4506 - val_loss: 1.2386 - val_accuracy: 0.4359\n",
            "Epoch 41/500\n",
            "24/24 [==============================] - 0s 4ms/step - loss: 1.2190 - accuracy: 0.4526 - val_loss: 1.2385 - val_accuracy: 0.4356\n",
            "Epoch 42/500\n",
            "24/24 [==============================] - 0s 4ms/step - loss: 1.2190 - accuracy: 0.4538 - val_loss: 1.2367 - val_accuracy: 0.4359\n",
            "Epoch 43/500\n",
            "24/24 [==============================] - 0s 5ms/step - loss: 1.2172 - accuracy: 0.4533 - val_loss: 1.2363 - val_accuracy: 0.4366\n",
            "Epoch 44/500\n",
            "24/24 [==============================] - 0s 4ms/step - loss: 1.2165 - accuracy: 0.4548 - val_loss: 1.2357 - val_accuracy: 0.4404\n",
            "Epoch 45/500\n",
            "24/24 [==============================] - 0s 4ms/step - loss: 1.2153 - accuracy: 0.4519 - val_loss: 1.2350 - val_accuracy: 0.4397\n",
            "Epoch 46/500\n",
            "24/24 [==============================] - 0s 4ms/step - loss: 1.2157 - accuracy: 0.4555 - val_loss: 1.2342 - val_accuracy: 0.4414\n",
            "Epoch 47/500\n",
            "24/24 [==============================] - 0s 4ms/step - loss: 1.2144 - accuracy: 0.4531 - val_loss: 1.2347 - val_accuracy: 0.4397\n",
            "Epoch 48/500\n",
            "24/24 [==============================] - 0s 4ms/step - loss: 1.2145 - accuracy: 0.4507 - val_loss: 1.2336 - val_accuracy: 0.4421\n",
            "Epoch 49/500\n",
            "24/24 [==============================] - 0s 4ms/step - loss: 1.2132 - accuracy: 0.4572 - val_loss: 1.2327 - val_accuracy: 0.4414\n",
            "Epoch 50/500\n",
            "24/24 [==============================] - 0s 4ms/step - loss: 1.2123 - accuracy: 0.4546 - val_loss: 1.2321 - val_accuracy: 0.4418\n",
            "Epoch 51/500\n",
            "24/24 [==============================] - 0s 4ms/step - loss: 1.2112 - accuracy: 0.4551 - val_loss: 1.2321 - val_accuracy: 0.4431\n",
            "Epoch 52/500\n",
            "24/24 [==============================] - 0s 4ms/step - loss: 1.2110 - accuracy: 0.4555 - val_loss: 1.2307 - val_accuracy: 0.4418\n",
            "Epoch 53/500\n",
            "24/24 [==============================] - 0s 5ms/step - loss: 1.2107 - accuracy: 0.4590 - val_loss: 1.2303 - val_accuracy: 0.4418\n",
            "Epoch 54/500\n",
            "24/24 [==============================] - 0s 4ms/step - loss: 1.2100 - accuracy: 0.4573 - val_loss: 1.2308 - val_accuracy: 0.4394\n",
            "Epoch 55/500\n",
            "24/24 [==============================] - 0s 4ms/step - loss: 1.2094 - accuracy: 0.4563 - val_loss: 1.2309 - val_accuracy: 0.4414\n",
            "Epoch 56/500\n",
            "24/24 [==============================] - 0s 4ms/step - loss: 1.2110 - accuracy: 0.4543 - val_loss: 1.2292 - val_accuracy: 0.4380\n",
            "Epoch 57/500\n",
            "24/24 [==============================] - 0s 4ms/step - loss: 1.2086 - accuracy: 0.4555 - val_loss: 1.2295 - val_accuracy: 0.4428\n",
            "Epoch 58/500\n",
            "24/24 [==============================] - 0s 4ms/step - loss: 1.2082 - accuracy: 0.4573 - val_loss: 1.2287 - val_accuracy: 0.4428\n",
            "Epoch 59/500\n",
            "24/24 [==============================] - 0s 4ms/step - loss: 1.2076 - accuracy: 0.4592 - val_loss: 1.2284 - val_accuracy: 0.4411\n",
            "Epoch 60/500\n",
            "24/24 [==============================] - 0s 4ms/step - loss: 1.2075 - accuracy: 0.4595 - val_loss: 1.2278 - val_accuracy: 0.4435\n",
            "Epoch 61/500\n",
            "24/24 [==============================] - 0s 4ms/step - loss: 1.2061 - accuracy: 0.4614 - val_loss: 1.2278 - val_accuracy: 0.4435\n",
            "Epoch 62/500\n",
            "24/24 [==============================] - 0s 4ms/step - loss: 1.2058 - accuracy: 0.4604 - val_loss: 1.2270 - val_accuracy: 0.4459\n",
            "Epoch 63/500\n",
            "24/24 [==============================] - 0s 6ms/step - loss: 1.2053 - accuracy: 0.4594 - val_loss: 1.2266 - val_accuracy: 0.4445\n",
            "Epoch 64/500\n",
            "24/24 [==============================] - 0s 4ms/step - loss: 1.2059 - accuracy: 0.4587 - val_loss: 1.2274 - val_accuracy: 0.4507\n",
            "Epoch 65/500\n",
            "24/24 [==============================] - 0s 4ms/step - loss: 1.2045 - accuracy: 0.4606 - val_loss: 1.2256 - val_accuracy: 0.4456\n",
            "Epoch 66/500\n",
            "24/24 [==============================] - 0s 4ms/step - loss: 1.2047 - accuracy: 0.4631 - val_loss: 1.2257 - val_accuracy: 0.4514\n",
            "Epoch 67/500\n",
            "24/24 [==============================] - 0s 4ms/step - loss: 1.2034 - accuracy: 0.4624 - val_loss: 1.2247 - val_accuracy: 0.4459\n",
            "Epoch 68/500\n",
            "24/24 [==============================] - 0s 4ms/step - loss: 1.2027 - accuracy: 0.4616 - val_loss: 1.2250 - val_accuracy: 0.4456\n",
            "Epoch 69/500\n",
            "24/24 [==============================] - 0s 4ms/step - loss: 1.2019 - accuracy: 0.4594 - val_loss: 1.2244 - val_accuracy: 0.4500\n",
            "Epoch 70/500\n",
            "24/24 [==============================] - 0s 4ms/step - loss: 1.2023 - accuracy: 0.4604 - val_loss: 1.2237 - val_accuracy: 0.4517\n",
            "Epoch 71/500\n",
            "24/24 [==============================] - 0s 4ms/step - loss: 1.2015 - accuracy: 0.4628 - val_loss: 1.2239 - val_accuracy: 0.4507\n",
            "Epoch 72/500\n",
            "24/24 [==============================] - 0s 4ms/step - loss: 1.2018 - accuracy: 0.4616 - val_loss: 1.2229 - val_accuracy: 0.4476\n",
            "Epoch 73/500\n",
            "24/24 [==============================] - 0s 5ms/step - loss: 1.2004 - accuracy: 0.4604 - val_loss: 1.2233 - val_accuracy: 0.4490\n",
            "Epoch 74/500\n",
            "24/24 [==============================] - 0s 4ms/step - loss: 1.2001 - accuracy: 0.4629 - val_loss: 1.2230 - val_accuracy: 0.4459\n",
            "Epoch 75/500\n",
            "24/24 [==============================] - 0s 4ms/step - loss: 1.2004 - accuracy: 0.4646 - val_loss: 1.2234 - val_accuracy: 0.4466\n",
            "Epoch 76/500\n",
            "24/24 [==============================] - 0s 4ms/step - loss: 1.2000 - accuracy: 0.4636 - val_loss: 1.2232 - val_accuracy: 0.4490\n",
            "Epoch 77/500\n",
            "24/24 [==============================] - 0s 4ms/step - loss: 1.1987 - accuracy: 0.4648 - val_loss: 1.2218 - val_accuracy: 0.4476\n",
            "Epoch 78/500\n",
            "24/24 [==============================] - 0s 4ms/step - loss: 1.1986 - accuracy: 0.4636 - val_loss: 1.2218 - val_accuracy: 0.4541\n",
            "Epoch 79/500\n",
            "24/24 [==============================] - 0s 4ms/step - loss: 1.1987 - accuracy: 0.4677 - val_loss: 1.2222 - val_accuracy: 0.4500\n",
            "Epoch 80/500\n",
            "24/24 [==============================] - 0s 4ms/step - loss: 1.1978 - accuracy: 0.4653 - val_loss: 1.2209 - val_accuracy: 0.4469\n",
            "Epoch 81/500\n",
            "24/24 [==============================] - 0s 4ms/step - loss: 1.1973 - accuracy: 0.4699 - val_loss: 1.2210 - val_accuracy: 0.4500\n",
            "Epoch 82/500\n",
            "24/24 [==============================] - 0s 4ms/step - loss: 1.1981 - accuracy: 0.4678 - val_loss: 1.2231 - val_accuracy: 0.4493\n",
            "Epoch 83/500\n",
            "24/24 [==============================] - 0s 4ms/step - loss: 1.1971 - accuracy: 0.4660 - val_loss: 1.2200 - val_accuracy: 0.4486\n",
            "Epoch 84/500\n",
            "24/24 [==============================] - 0s 4ms/step - loss: 1.1967 - accuracy: 0.4678 - val_loss: 1.2203 - val_accuracy: 0.4504\n",
            "Epoch 85/500\n",
            "24/24 [==============================] - 0s 4ms/step - loss: 1.1960 - accuracy: 0.4668 - val_loss: 1.2207 - val_accuracy: 0.4473\n",
            "Epoch 86/500\n",
            "24/24 [==============================] - 0s 4ms/step - loss: 1.1958 - accuracy: 0.4677 - val_loss: 1.2204 - val_accuracy: 0.4493\n",
            "Epoch 87/500\n",
            "24/24 [==============================] - 0s 4ms/step - loss: 1.1951 - accuracy: 0.4650 - val_loss: 1.2205 - val_accuracy: 0.4469\n",
            "Epoch 88/500\n",
            "24/24 [==============================] - 0s 4ms/step - loss: 1.1951 - accuracy: 0.4656 - val_loss: 1.2197 - val_accuracy: 0.4500\n",
            "Epoch 89/500\n",
            "24/24 [==============================] - 0s 7ms/step - loss: 1.1956 - accuracy: 0.4678 - val_loss: 1.2195 - val_accuracy: 0.4469\n",
            "Epoch 90/500\n",
            "24/24 [==============================] - 0s 7ms/step - loss: 1.1947 - accuracy: 0.4694 - val_loss: 1.2203 - val_accuracy: 0.4476\n",
            "Epoch 91/500\n",
            "24/24 [==============================] - 0s 6ms/step - loss: 1.1943 - accuracy: 0.4687 - val_loss: 1.2199 - val_accuracy: 0.4510\n",
            "Epoch 92/500\n",
            "24/24 [==============================] - 0s 6ms/step - loss: 1.1939 - accuracy: 0.4702 - val_loss: 1.2197 - val_accuracy: 0.4507\n",
            "Epoch 93/500\n",
            "24/24 [==============================] - 0s 5ms/step - loss: 1.1933 - accuracy: 0.4711 - val_loss: 1.2190 - val_accuracy: 0.4500\n",
            "Epoch 94/500\n",
            "24/24 [==============================] - 0s 5ms/step - loss: 1.1932 - accuracy: 0.4712 - val_loss: 1.2199 - val_accuracy: 0.4456\n",
            "Epoch 95/500\n",
            "24/24 [==============================] - 0s 5ms/step - loss: 1.1931 - accuracy: 0.4705 - val_loss: 1.2199 - val_accuracy: 0.4486\n",
            "Epoch 96/500\n",
            "24/24 [==============================] - 0s 6ms/step - loss: 1.1926 - accuracy: 0.4699 - val_loss: 1.2192 - val_accuracy: 0.4486\n",
            "Epoch 97/500\n",
            "24/24 [==============================] - 0s 5ms/step - loss: 1.1941 - accuracy: 0.4695 - val_loss: 1.2209 - val_accuracy: 0.4449\n",
            "Epoch 98/500\n",
            "24/24 [==============================] - 0s 6ms/step - loss: 1.1921 - accuracy: 0.4724 - val_loss: 1.2193 - val_accuracy: 0.4486\n",
            "Epoch 99/500\n",
            "24/24 [==============================] - 0s 7ms/step - loss: 1.1921 - accuracy: 0.4699 - val_loss: 1.2198 - val_accuracy: 0.4490\n",
            "Epoch 100/500\n",
            "24/24 [==============================] - 0s 5ms/step - loss: 1.1919 - accuracy: 0.4695 - val_loss: 1.2201 - val_accuracy: 0.4514\n",
            "Epoch 101/500\n",
            "24/24 [==============================] - 0s 5ms/step - loss: 1.1937 - accuracy: 0.4714 - val_loss: 1.2196 - val_accuracy: 0.4490\n",
            "Epoch 102/500\n",
            "24/24 [==============================] - 0s 7ms/step - loss: 1.1919 - accuracy: 0.4699 - val_loss: 1.2190 - val_accuracy: 0.4490\n",
            "Epoch 103/500\n",
            "24/24 [==============================] - 0s 7ms/step - loss: 1.1926 - accuracy: 0.4692 - val_loss: 1.2205 - val_accuracy: 0.4456\n",
            "Epoch 104/500\n",
            "24/24 [==============================] - 0s 7ms/step - loss: 1.1920 - accuracy: 0.4722 - val_loss: 1.2190 - val_accuracy: 0.4490\n",
            "Epoch 105/500\n",
            "24/24 [==============================] - 0s 7ms/step - loss: 1.1907 - accuracy: 0.4736 - val_loss: 1.2193 - val_accuracy: 0.4490\n",
            "Epoch 106/500\n",
            "24/24 [==============================] - 0s 8ms/step - loss: 1.1910 - accuracy: 0.4702 - val_loss: 1.2196 - val_accuracy: 0.4493\n",
            "Epoch 107/500\n",
            "24/24 [==============================] - 0s 6ms/step - loss: 1.1920 - accuracy: 0.4722 - val_loss: 1.2195 - val_accuracy: 0.4476\n",
            "Epoch 108/500\n",
            "24/24 [==============================] - 0s 4ms/step - loss: 1.1909 - accuracy: 0.4704 - val_loss: 1.2192 - val_accuracy: 0.4473\n",
            "Epoch 109/500\n",
            "24/24 [==============================] - 0s 4ms/step - loss: 1.1900 - accuracy: 0.4726 - val_loss: 1.2198 - val_accuracy: 0.4459\n",
            "Epoch 110/500\n",
            "24/24 [==============================] - 0s 4ms/step - loss: 1.1903 - accuracy: 0.4755 - val_loss: 1.2189 - val_accuracy: 0.4510\n",
            "Epoch 111/500\n",
            "24/24 [==============================] - 0s 4ms/step - loss: 1.1902 - accuracy: 0.4746 - val_loss: 1.2192 - val_accuracy: 0.4514\n",
            "Epoch 112/500\n",
            "24/24 [==============================] - 0s 4ms/step - loss: 1.1893 - accuracy: 0.4727 - val_loss: 1.2199 - val_accuracy: 0.4528\n",
            "Epoch 113/500\n",
            "24/24 [==============================] - 0s 4ms/step - loss: 1.1900 - accuracy: 0.4707 - val_loss: 1.2204 - val_accuracy: 0.4493\n",
            "Epoch 114/500\n",
            "24/24 [==============================] - 0s 4ms/step - loss: 1.1914 - accuracy: 0.4731 - val_loss: 1.2189 - val_accuracy: 0.4497\n",
            "Epoch 115/500\n",
            "24/24 [==============================] - 0s 4ms/step - loss: 1.1897 - accuracy: 0.4743 - val_loss: 1.2189 - val_accuracy: 0.4517\n",
            "Epoch 116/500\n",
            "24/24 [==============================] - 0s 4ms/step - loss: 1.1895 - accuracy: 0.4761 - val_loss: 1.2189 - val_accuracy: 0.4524\n",
            "Epoch 117/500\n",
            "24/24 [==============================] - 0s 4ms/step - loss: 1.1890 - accuracy: 0.4758 - val_loss: 1.2195 - val_accuracy: 0.4476\n",
            "Epoch 118/500\n",
            "24/24 [==============================] - 0s 4ms/step - loss: 1.1891 - accuracy: 0.4727 - val_loss: 1.2187 - val_accuracy: 0.4483\n",
            "Epoch 119/500\n",
            "24/24 [==============================] - 0s 4ms/step - loss: 1.1884 - accuracy: 0.4746 - val_loss: 1.2197 - val_accuracy: 0.4473\n",
            "Epoch 120/500\n",
            "24/24 [==============================] - 0s 4ms/step - loss: 1.1886 - accuracy: 0.4782 - val_loss: 1.2187 - val_accuracy: 0.4528\n",
            "Epoch 121/500\n",
            "24/24 [==============================] - 0s 4ms/step - loss: 1.1884 - accuracy: 0.4768 - val_loss: 1.2190 - val_accuracy: 0.4517\n",
            "Epoch 122/500\n",
            "24/24 [==============================] - 0s 4ms/step - loss: 1.1879 - accuracy: 0.4760 - val_loss: 1.2186 - val_accuracy: 0.4486\n",
            "Epoch 123/500\n",
            "24/24 [==============================] - 0s 4ms/step - loss: 1.1877 - accuracy: 0.4768 - val_loss: 1.2179 - val_accuracy: 0.4510\n",
            "Epoch 124/500\n",
            "24/24 [==============================] - 0s 5ms/step - loss: 1.1872 - accuracy: 0.4765 - val_loss: 1.2189 - val_accuracy: 0.4493\n",
            "Epoch 125/500\n",
            "24/24 [==============================] - 0s 4ms/step - loss: 1.1876 - accuracy: 0.4758 - val_loss: 1.2180 - val_accuracy: 0.4510\n",
            "Epoch 126/500\n",
            "24/24 [==============================] - 0s 4ms/step - loss: 1.1879 - accuracy: 0.4763 - val_loss: 1.2179 - val_accuracy: 0.4493\n",
            "Epoch 127/500\n",
            "24/24 [==============================] - 0s 4ms/step - loss: 1.1880 - accuracy: 0.4780 - val_loss: 1.2193 - val_accuracy: 0.4483\n",
            "Epoch 128/500\n",
            "24/24 [==============================] - 0s 4ms/step - loss: 1.1892 - accuracy: 0.4724 - val_loss: 1.2185 - val_accuracy: 0.4589\n",
            "Epoch 129/500\n",
            "24/24 [==============================] - 0s 4ms/step - loss: 1.1869 - accuracy: 0.4744 - val_loss: 1.2174 - val_accuracy: 0.4524\n",
            "Epoch 130/500\n",
            "24/24 [==============================] - 0s 5ms/step - loss: 1.1864 - accuracy: 0.4780 - val_loss: 1.2178 - val_accuracy: 0.4538\n",
            "Epoch 131/500\n",
            "24/24 [==============================] - 0s 4ms/step - loss: 1.1868 - accuracy: 0.4748 - val_loss: 1.2187 - val_accuracy: 0.4493\n",
            "Epoch 132/500\n",
            "24/24 [==============================] - 0s 4ms/step - loss: 1.1871 - accuracy: 0.4753 - val_loss: 1.2166 - val_accuracy: 0.4586\n",
            "Epoch 133/500\n",
            "24/24 [==============================] - 0s 4ms/step - loss: 1.1875 - accuracy: 0.4788 - val_loss: 1.2175 - val_accuracy: 0.4576\n",
            "Epoch 134/500\n",
            "24/24 [==============================] - 0s 4ms/step - loss: 1.1876 - accuracy: 0.4766 - val_loss: 1.2178 - val_accuracy: 0.4521\n",
            "Epoch 135/500\n",
            "24/24 [==============================] - 0s 4ms/step - loss: 1.1863 - accuracy: 0.4731 - val_loss: 1.2179 - val_accuracy: 0.4524\n",
            "Epoch 136/500\n",
            "24/24 [==============================] - 0s 4ms/step - loss: 1.1867 - accuracy: 0.4766 - val_loss: 1.2180 - val_accuracy: 0.4535\n",
            "Epoch 137/500\n",
            "24/24 [==============================] - 0s 4ms/step - loss: 1.1871 - accuracy: 0.4744 - val_loss: 1.2178 - val_accuracy: 0.4507\n",
            "Epoch 138/500\n",
            "24/24 [==============================] - 0s 4ms/step - loss: 1.1857 - accuracy: 0.4768 - val_loss: 1.2166 - val_accuracy: 0.4535\n",
            "Epoch 139/500\n",
            "24/24 [==============================] - 0s 4ms/step - loss: 1.1859 - accuracy: 0.4766 - val_loss: 1.2176 - val_accuracy: 0.4504\n",
            "Epoch 140/500\n",
            "24/24 [==============================] - 0s 4ms/step - loss: 1.1871 - accuracy: 0.4749 - val_loss: 1.2179 - val_accuracy: 0.4483\n",
            "Epoch 141/500\n",
            "24/24 [==============================] - 0s 4ms/step - loss: 1.1855 - accuracy: 0.4773 - val_loss: 1.2172 - val_accuracy: 0.4517\n",
            "Epoch 142/500\n",
            "24/24 [==============================] - 0s 4ms/step - loss: 1.1862 - accuracy: 0.4749 - val_loss: 1.2190 - val_accuracy: 0.4517\n",
            "Epoch 143/500\n",
            "24/24 [==============================] - 0s 4ms/step - loss: 1.1869 - accuracy: 0.4771 - val_loss: 1.2166 - val_accuracy: 0.4538\n",
            "Epoch 144/500\n",
            "24/24 [==============================] - 0s 4ms/step - loss: 1.1850 - accuracy: 0.4744 - val_loss: 1.2161 - val_accuracy: 0.4562\n",
            "Epoch 145/500\n",
            "24/24 [==============================] - 0s 4ms/step - loss: 1.1850 - accuracy: 0.4797 - val_loss: 1.2161 - val_accuracy: 0.4565\n",
            "Epoch 146/500\n",
            "24/24 [==============================] - 0s 4ms/step - loss: 1.1849 - accuracy: 0.4758 - val_loss: 1.2170 - val_accuracy: 0.4548\n",
            "Epoch 147/500\n",
            "24/24 [==============================] - 0s 4ms/step - loss: 1.1845 - accuracy: 0.4778 - val_loss: 1.2167 - val_accuracy: 0.4528\n",
            "Epoch 148/500\n",
            "24/24 [==============================] - 0s 4ms/step - loss: 1.1848 - accuracy: 0.4780 - val_loss: 1.2174 - val_accuracy: 0.4586\n",
            "Epoch 149/500\n",
            "24/24 [==============================] - 0s 4ms/step - loss: 1.1861 - accuracy: 0.4722 - val_loss: 1.2177 - val_accuracy: 0.4497\n",
            "Epoch 150/500\n",
            "24/24 [==============================] - 0s 4ms/step - loss: 1.1857 - accuracy: 0.4763 - val_loss: 1.2160 - val_accuracy: 0.4517\n",
            "Epoch 151/500\n",
            "24/24 [==============================] - 0s 4ms/step - loss: 1.1841 - accuracy: 0.4766 - val_loss: 1.2169 - val_accuracy: 0.4514\n",
            "Epoch 152/500\n",
            "24/24 [==============================] - 0s 4ms/step - loss: 1.1839 - accuracy: 0.4780 - val_loss: 1.2153 - val_accuracy: 0.4548\n",
            "Epoch 153/500\n",
            "24/24 [==============================] - 0s 4ms/step - loss: 1.1838 - accuracy: 0.4810 - val_loss: 1.2158 - val_accuracy: 0.4538\n",
            "Epoch 154/500\n",
            "24/24 [==============================] - 0s 4ms/step - loss: 1.1845 - accuracy: 0.4766 - val_loss: 1.2171 - val_accuracy: 0.4500\n",
            "Epoch 155/500\n",
            "24/24 [==============================] - 0s 5ms/step - loss: 1.1846 - accuracy: 0.4768 - val_loss: 1.2153 - val_accuracy: 0.4576\n",
            "Epoch 156/500\n",
            "24/24 [==============================] - 0s 4ms/step - loss: 1.1859 - accuracy: 0.4792 - val_loss: 1.2153 - val_accuracy: 0.4535\n",
            "Epoch 157/500\n",
            "24/24 [==============================] - 0s 4ms/step - loss: 1.1849 - accuracy: 0.4783 - val_loss: 1.2147 - val_accuracy: 0.4555\n",
            "Epoch 158/500\n",
            "24/24 [==============================] - 0s 4ms/step - loss: 1.1838 - accuracy: 0.4768 - val_loss: 1.2153 - val_accuracy: 0.4552\n",
            "Epoch 159/500\n",
            "24/24 [==============================] - 0s 4ms/step - loss: 1.1833 - accuracy: 0.4766 - val_loss: 1.2157 - val_accuracy: 0.4517\n",
            "Epoch 160/500\n",
            "24/24 [==============================] - 0s 4ms/step - loss: 1.1828 - accuracy: 0.4816 - val_loss: 1.2152 - val_accuracy: 0.4535\n",
            "Epoch 161/500\n",
            "24/24 [==============================] - 0s 4ms/step - loss: 1.1831 - accuracy: 0.4809 - val_loss: 1.2152 - val_accuracy: 0.4565\n",
            "Epoch 162/500\n",
            "24/24 [==============================] - 0s 4ms/step - loss: 1.1830 - accuracy: 0.4778 - val_loss: 1.2167 - val_accuracy: 0.4504\n",
            "Epoch 163/500\n",
            "24/24 [==============================] - 0s 4ms/step - loss: 1.1830 - accuracy: 0.4802 - val_loss: 1.2161 - val_accuracy: 0.4565\n",
            "Epoch 164/500\n",
            "24/24 [==============================] - 0s 4ms/step - loss: 1.1844 - accuracy: 0.4797 - val_loss: 1.2159 - val_accuracy: 0.4528\n",
            "Epoch 165/500\n",
            "24/24 [==============================] - 0s 4ms/step - loss: 1.1834 - accuracy: 0.4788 - val_loss: 1.2154 - val_accuracy: 0.4535\n",
            "Epoch 166/500\n",
            "24/24 [==============================] - 0s 4ms/step - loss: 1.1836 - accuracy: 0.4765 - val_loss: 1.2152 - val_accuracy: 0.4600\n",
            "Epoch 167/500\n",
            "24/24 [==============================] - 0s 4ms/step - loss: 1.1831 - accuracy: 0.4788 - val_loss: 1.2173 - val_accuracy: 0.4524\n",
            "Epoch 168/500\n",
            "24/24 [==============================] - 0s 4ms/step - loss: 1.1827 - accuracy: 0.4795 - val_loss: 1.2148 - val_accuracy: 0.4555\n",
            "Epoch 169/500\n",
            "24/24 [==============================] - 0s 4ms/step - loss: 1.1821 - accuracy: 0.4795 - val_loss: 1.2156 - val_accuracy: 0.4486\n",
            "Epoch 170/500\n",
            "24/24 [==============================] - 0s 4ms/step - loss: 1.1824 - accuracy: 0.4799 - val_loss: 1.2152 - val_accuracy: 0.4517\n",
            "Epoch 171/500\n",
            "24/24 [==============================] - 0s 4ms/step - loss: 1.1823 - accuracy: 0.4826 - val_loss: 1.2148 - val_accuracy: 0.4583\n",
            "Epoch 172/500\n",
            "24/24 [==============================] - 0s 4ms/step - loss: 1.1837 - accuracy: 0.4792 - val_loss: 1.2150 - val_accuracy: 0.4538\n",
            "Epoch 173/500\n",
            "24/24 [==============================] - 0s 4ms/step - loss: 1.1822 - accuracy: 0.4795 - val_loss: 1.2149 - val_accuracy: 0.4565\n",
            "Epoch 174/500\n",
            "24/24 [==============================] - 0s 4ms/step - loss: 1.1818 - accuracy: 0.4802 - val_loss: 1.2145 - val_accuracy: 0.4545\n",
            "Epoch 175/500\n",
            "24/24 [==============================] - 0s 4ms/step - loss: 1.1817 - accuracy: 0.4802 - val_loss: 1.2156 - val_accuracy: 0.4517\n",
            "Epoch 176/500\n",
            "24/24 [==============================] - 0s 4ms/step - loss: 1.1823 - accuracy: 0.4805 - val_loss: 1.2142 - val_accuracy: 0.4565\n",
            "Epoch 177/500\n",
            "24/24 [==============================] - 0s 4ms/step - loss: 1.1817 - accuracy: 0.4792 - val_loss: 1.2149 - val_accuracy: 0.4555\n",
            "Epoch 178/500\n",
            "24/24 [==============================] - 0s 4ms/step - loss: 1.1833 - accuracy: 0.4753 - val_loss: 1.2137 - val_accuracy: 0.4559\n",
            "Epoch 179/500\n",
            "24/24 [==============================] - 0s 4ms/step - loss: 1.1816 - accuracy: 0.4768 - val_loss: 1.2144 - val_accuracy: 0.4545\n",
            "Epoch 180/500\n",
            "24/24 [==============================] - 0s 4ms/step - loss: 1.1818 - accuracy: 0.4788 - val_loss: 1.2140 - val_accuracy: 0.4562\n",
            "Epoch 181/500\n",
            "24/24 [==============================] - 0s 4ms/step - loss: 1.1820 - accuracy: 0.4780 - val_loss: 1.2145 - val_accuracy: 0.4514\n",
            "Epoch 182/500\n",
            "24/24 [==============================] - 0s 4ms/step - loss: 1.1823 - accuracy: 0.4768 - val_loss: 1.2147 - val_accuracy: 0.4517\n",
            "Epoch 183/500\n",
            "24/24 [==============================] - 0s 4ms/step - loss: 1.1814 - accuracy: 0.4802 - val_loss: 1.2139 - val_accuracy: 0.4572\n",
            "Epoch 184/500\n",
            "24/24 [==============================] - 0s 4ms/step - loss: 1.1817 - accuracy: 0.4792 - val_loss: 1.2126 - val_accuracy: 0.4548\n",
            "Epoch 185/500\n",
            "24/24 [==============================] - 0s 4ms/step - loss: 1.1823 - accuracy: 0.4807 - val_loss: 1.2132 - val_accuracy: 0.4562\n",
            "Epoch 186/500\n",
            "24/24 [==============================] - 0s 4ms/step - loss: 1.1814 - accuracy: 0.4755 - val_loss: 1.2126 - val_accuracy: 0.4565\n",
            "Epoch 187/500\n",
            "24/24 [==============================] - 0s 4ms/step - loss: 1.1811 - accuracy: 0.4790 - val_loss: 1.2144 - val_accuracy: 0.4504\n",
            "Epoch 188/500\n",
            "24/24 [==============================] - 0s 4ms/step - loss: 1.1822 - accuracy: 0.4785 - val_loss: 1.2133 - val_accuracy: 0.4559\n",
            "Epoch 189/500\n",
            "24/24 [==============================] - 0s 4ms/step - loss: 1.1806 - accuracy: 0.4812 - val_loss: 1.2122 - val_accuracy: 0.4559\n",
            "Epoch 190/500\n",
            "24/24 [==============================] - 0s 4ms/step - loss: 1.1810 - accuracy: 0.4804 - val_loss: 1.2135 - val_accuracy: 0.4528\n",
            "Epoch 191/500\n",
            "24/24 [==============================] - 0s 4ms/step - loss: 1.1805 - accuracy: 0.4794 - val_loss: 1.2132 - val_accuracy: 0.4517\n",
            "Epoch 192/500\n",
            "24/24 [==============================] - 0s 4ms/step - loss: 1.1798 - accuracy: 0.4804 - val_loss: 1.2131 - val_accuracy: 0.4583\n",
            "Epoch 193/500\n",
            "24/24 [==============================] - 0s 4ms/step - loss: 1.1817 - accuracy: 0.4783 - val_loss: 1.2146 - val_accuracy: 0.4524\n",
            "Epoch 194/500\n",
            "24/24 [==============================] - 0s 4ms/step - loss: 1.1808 - accuracy: 0.4753 - val_loss: 1.2134 - val_accuracy: 0.4565\n",
            "Epoch 195/500\n",
            "24/24 [==============================] - 0s 5ms/step - loss: 1.1800 - accuracy: 0.4826 - val_loss: 1.2138 - val_accuracy: 0.4569\n",
            "Epoch 196/500\n",
            "24/24 [==============================] - 0s 4ms/step - loss: 1.1801 - accuracy: 0.4802 - val_loss: 1.2121 - val_accuracy: 0.4569\n",
            "Epoch 197/500\n",
            "24/24 [==============================] - 0s 4ms/step - loss: 1.1811 - accuracy: 0.4780 - val_loss: 1.2130 - val_accuracy: 0.4524\n",
            "Epoch 198/500\n",
            "24/24 [==============================] - 0s 4ms/step - loss: 1.1799 - accuracy: 0.4800 - val_loss: 1.2137 - val_accuracy: 0.4583\n",
            "Epoch 199/500\n",
            "24/24 [==============================] - 0s 4ms/step - loss: 1.1801 - accuracy: 0.4783 - val_loss: 1.2183 - val_accuracy: 0.4559\n",
            "Epoch 200/500\n",
            "24/24 [==============================] - 0s 4ms/step - loss: 1.1824 - accuracy: 0.4753 - val_loss: 1.2127 - val_accuracy: 0.4555\n",
            "Epoch 201/500\n",
            "24/24 [==============================] - 0s 4ms/step - loss: 1.1803 - accuracy: 0.4788 - val_loss: 1.2126 - val_accuracy: 0.4552\n",
            "Epoch 202/500\n",
            "24/24 [==============================] - 0s 4ms/step - loss: 1.1795 - accuracy: 0.4787 - val_loss: 1.2129 - val_accuracy: 0.4555\n",
            "Epoch 203/500\n",
            "24/24 [==============================] - 0s 4ms/step - loss: 1.1793 - accuracy: 0.4790 - val_loss: 1.2126 - val_accuracy: 0.4586\n",
            "Epoch 204/500\n",
            "24/24 [==============================] - 0s 4ms/step - loss: 1.1799 - accuracy: 0.4802 - val_loss: 1.2138 - val_accuracy: 0.4535\n",
            "Epoch 205/500\n",
            "24/24 [==============================] - 0s 7ms/step - loss: 1.1794 - accuracy: 0.4760 - val_loss: 1.2141 - val_accuracy: 0.4545\n",
            "Epoch 206/500\n",
            "24/24 [==============================] - 0s 7ms/step - loss: 1.1802 - accuracy: 0.4790 - val_loss: 1.2143 - val_accuracy: 0.4607\n",
            "Epoch 207/500\n",
            "24/24 [==============================] - 0s 5ms/step - loss: 1.1800 - accuracy: 0.4780 - val_loss: 1.2125 - val_accuracy: 0.4565\n",
            "Epoch 208/500\n",
            "24/24 [==============================] - 0s 7ms/step - loss: 1.1787 - accuracy: 0.4778 - val_loss: 1.2131 - val_accuracy: 0.4562\n",
            "Epoch 209/500\n",
            "24/24 [==============================] - 0s 6ms/step - loss: 1.1806 - accuracy: 0.4768 - val_loss: 1.2127 - val_accuracy: 0.4565\n",
            "Epoch 210/500\n",
            "24/24 [==============================] - 0s 5ms/step - loss: 1.1800 - accuracy: 0.4780 - val_loss: 1.2124 - val_accuracy: 0.4593\n",
            "Epoch 211/500\n",
            "24/24 [==============================] - 0s 7ms/step - loss: 1.1790 - accuracy: 0.4783 - val_loss: 1.2121 - val_accuracy: 0.4552\n",
            "Epoch 212/500\n",
            "24/24 [==============================] - 0s 7ms/step - loss: 1.1789 - accuracy: 0.4780 - val_loss: 1.2119 - val_accuracy: 0.4559\n",
            "Epoch 213/500\n",
            "24/24 [==============================] - 0s 7ms/step - loss: 1.1784 - accuracy: 0.4773 - val_loss: 1.2120 - val_accuracy: 0.4576\n",
            "Epoch 214/500\n",
            "24/24 [==============================] - 0s 5ms/step - loss: 1.1794 - accuracy: 0.4770 - val_loss: 1.2120 - val_accuracy: 0.4569\n",
            "Epoch 215/500\n",
            "24/24 [==============================] - 0s 5ms/step - loss: 1.1802 - accuracy: 0.4766 - val_loss: 1.2117 - val_accuracy: 0.4569\n",
            "Epoch 216/500\n",
            "24/24 [==============================] - 0s 6ms/step - loss: 1.1807 - accuracy: 0.4748 - val_loss: 1.2137 - val_accuracy: 0.4559\n",
            "Epoch 217/500\n",
            "24/24 [==============================] - 0s 7ms/step - loss: 1.1790 - accuracy: 0.4760 - val_loss: 1.2123 - val_accuracy: 0.4559\n",
            "Epoch 218/500\n",
            "24/24 [==============================] - 0s 6ms/step - loss: 1.1781 - accuracy: 0.4783 - val_loss: 1.2130 - val_accuracy: 0.4576\n",
            "Epoch 219/500\n",
            "24/24 [==============================] - 0s 7ms/step - loss: 1.1787 - accuracy: 0.4790 - val_loss: 1.2119 - val_accuracy: 0.4607\n",
            "Epoch 220/500\n",
            "24/24 [==============================] - 0s 7ms/step - loss: 1.1775 - accuracy: 0.4797 - val_loss: 1.2128 - val_accuracy: 0.4586\n",
            "Epoch 221/500\n",
            "24/24 [==============================] - 0s 5ms/step - loss: 1.1790 - accuracy: 0.4817 - val_loss: 1.2120 - val_accuracy: 0.4583\n",
            "Epoch 222/500\n",
            "24/24 [==============================] - 0s 8ms/step - loss: 1.1784 - accuracy: 0.4792 - val_loss: 1.2117 - val_accuracy: 0.4524\n",
            "Epoch 223/500\n",
            "24/24 [==============================] - 0s 4ms/step - loss: 1.1779 - accuracy: 0.4821 - val_loss: 1.2125 - val_accuracy: 0.4548\n",
            "Epoch 224/500\n",
            "24/24 [==============================] - 0s 4ms/step - loss: 1.1814 - accuracy: 0.4780 - val_loss: 1.2135 - val_accuracy: 0.4541\n",
            "Epoch 225/500\n",
            "24/24 [==============================] - 0s 4ms/step - loss: 1.1791 - accuracy: 0.4782 - val_loss: 1.2125 - val_accuracy: 0.4583\n",
            "Epoch 226/500\n",
            "24/24 [==============================] - 0s 4ms/step - loss: 1.1785 - accuracy: 0.4790 - val_loss: 1.2113 - val_accuracy: 0.4548\n",
            "Epoch 227/500\n",
            "24/24 [==============================] - 0s 4ms/step - loss: 1.1787 - accuracy: 0.4810 - val_loss: 1.2123 - val_accuracy: 0.4545\n",
            "Epoch 228/500\n",
            "24/24 [==============================] - 0s 4ms/step - loss: 1.1775 - accuracy: 0.4802 - val_loss: 1.2118 - val_accuracy: 0.4579\n",
            "Epoch 229/500\n",
            "24/24 [==============================] - 0s 4ms/step - loss: 1.1774 - accuracy: 0.4816 - val_loss: 1.2125 - val_accuracy: 0.4528\n",
            "Epoch 230/500\n",
            "24/24 [==============================] - 0s 4ms/step - loss: 1.1774 - accuracy: 0.4805 - val_loss: 1.2117 - val_accuracy: 0.4559\n",
            "Epoch 231/500\n",
            "24/24 [==============================] - 0s 4ms/step - loss: 1.1773 - accuracy: 0.4805 - val_loss: 1.2123 - val_accuracy: 0.4535\n",
            "Epoch 232/500\n",
            "24/24 [==============================] - 0s 4ms/step - loss: 1.1777 - accuracy: 0.4841 - val_loss: 1.2114 - val_accuracy: 0.4576\n",
            "Epoch 233/500\n",
            "24/24 [==============================] - 0s 4ms/step - loss: 1.1793 - accuracy: 0.4795 - val_loss: 1.2112 - val_accuracy: 0.4593\n",
            "Epoch 234/500\n",
            "24/24 [==============================] - 0s 4ms/step - loss: 1.1769 - accuracy: 0.4792 - val_loss: 1.2130 - val_accuracy: 0.4548\n",
            "Epoch 235/500\n",
            "24/24 [==============================] - 0s 5ms/step - loss: 1.1774 - accuracy: 0.4821 - val_loss: 1.2121 - val_accuracy: 0.4548\n",
            "Epoch 236/500\n",
            "24/24 [==============================] - 0s 4ms/step - loss: 1.1794 - accuracy: 0.4819 - val_loss: 1.2111 - val_accuracy: 0.4579\n",
            "Epoch 237/500\n",
            "24/24 [==============================] - 0s 4ms/step - loss: 1.1770 - accuracy: 0.4744 - val_loss: 1.2113 - val_accuracy: 0.4555\n",
            "Epoch 238/500\n",
            "24/24 [==============================] - 0s 4ms/step - loss: 1.1779 - accuracy: 0.4788 - val_loss: 1.2113 - val_accuracy: 0.4555\n",
            "Epoch 239/500\n",
            "24/24 [==============================] - 0s 4ms/step - loss: 1.1768 - accuracy: 0.4800 - val_loss: 1.2116 - val_accuracy: 0.4579\n",
            "Epoch 240/500\n",
            "24/24 [==============================] - 0s 4ms/step - loss: 1.1775 - accuracy: 0.4832 - val_loss: 1.2116 - val_accuracy: 0.4586\n",
            "Epoch 241/500\n",
            "24/24 [==============================] - 0s 4ms/step - loss: 1.1771 - accuracy: 0.4812 - val_loss: 1.2118 - val_accuracy: 0.4576\n",
            "Epoch 242/500\n",
            "24/24 [==============================] - 0s 4ms/step - loss: 1.1771 - accuracy: 0.4810 - val_loss: 1.2111 - val_accuracy: 0.4569\n",
            "Epoch 243/500\n",
            "24/24 [==============================] - 0s 4ms/step - loss: 1.1764 - accuracy: 0.4809 - val_loss: 1.2107 - val_accuracy: 0.4559\n",
            "Epoch 244/500\n",
            "24/24 [==============================] - 0s 4ms/step - loss: 1.1769 - accuracy: 0.4817 - val_loss: 1.2116 - val_accuracy: 0.4559\n",
            "Epoch 245/500\n",
            "24/24 [==============================] - 0s 5ms/step - loss: 1.1773 - accuracy: 0.4797 - val_loss: 1.2114 - val_accuracy: 0.4572\n",
            "Epoch 246/500\n",
            "24/24 [==============================] - 0s 4ms/step - loss: 1.1765 - accuracy: 0.4797 - val_loss: 1.2107 - val_accuracy: 0.4583\n",
            "Epoch 247/500\n",
            "24/24 [==============================] - 0s 4ms/step - loss: 1.1765 - accuracy: 0.4790 - val_loss: 1.2099 - val_accuracy: 0.4572\n",
            "Epoch 248/500\n",
            "24/24 [==============================] - 0s 4ms/step - loss: 1.1766 - accuracy: 0.4831 - val_loss: 1.2099 - val_accuracy: 0.4600\n",
            "Epoch 249/500\n",
            "24/24 [==============================] - 0s 4ms/step - loss: 1.1768 - accuracy: 0.4790 - val_loss: 1.2099 - val_accuracy: 0.4565\n",
            "Epoch 250/500\n",
            "24/24 [==============================] - 0s 5ms/step - loss: 1.1762 - accuracy: 0.4838 - val_loss: 1.2109 - val_accuracy: 0.4559\n",
            "Epoch 251/500\n",
            "24/24 [==============================] - 0s 4ms/step - loss: 1.1761 - accuracy: 0.4797 - val_loss: 1.2108 - val_accuracy: 0.4596\n",
            "Epoch 252/500\n",
            "24/24 [==============================] - 0s 4ms/step - loss: 1.1772 - accuracy: 0.4788 - val_loss: 1.2102 - val_accuracy: 0.4586\n",
            "Epoch 253/500\n",
            "24/24 [==============================] - 0s 5ms/step - loss: 1.1776 - accuracy: 0.4838 - val_loss: 1.2101 - val_accuracy: 0.4579\n",
            "Epoch 254/500\n",
            "24/24 [==============================] - 0s 5ms/step - loss: 1.1774 - accuracy: 0.4777 - val_loss: 1.2157 - val_accuracy: 0.4565\n",
            "Epoch 255/500\n",
            "24/24 [==============================] - 0s 4ms/step - loss: 1.1801 - accuracy: 0.4827 - val_loss: 1.2109 - val_accuracy: 0.4545\n",
            "Epoch 256/500\n",
            "24/24 [==============================] - 0s 4ms/step - loss: 1.1762 - accuracy: 0.4749 - val_loss: 1.2121 - val_accuracy: 0.4548\n",
            "Epoch 257/500\n",
            "24/24 [==============================] - 0s 4ms/step - loss: 1.1768 - accuracy: 0.4782 - val_loss: 1.2122 - val_accuracy: 0.4538\n",
            "Epoch 258/500\n",
            "24/24 [==============================] - 0s 4ms/step - loss: 1.1790 - accuracy: 0.4805 - val_loss: 1.2113 - val_accuracy: 0.4586\n",
            "Epoch 259/500\n",
            "24/24 [==============================] - 0s 4ms/step - loss: 1.1768 - accuracy: 0.4792 - val_loss: 1.2107 - val_accuracy: 0.4565\n",
            "Epoch 260/500\n",
            "24/24 [==============================] - 0s 5ms/step - loss: 1.1766 - accuracy: 0.4827 - val_loss: 1.2099 - val_accuracy: 0.4583\n",
            "Epoch 261/500\n",
            "24/24 [==============================] - 0s 4ms/step - loss: 1.1754 - accuracy: 0.4777 - val_loss: 1.2105 - val_accuracy: 0.4545\n",
            "Epoch 262/500\n",
            "24/24 [==============================] - 0s 4ms/step - loss: 1.1750 - accuracy: 0.4816 - val_loss: 1.2095 - val_accuracy: 0.4572\n",
            "Epoch 263/500\n",
            "24/24 [==============================] - 0s 6ms/step - loss: 1.1755 - accuracy: 0.4826 - val_loss: 1.2096 - val_accuracy: 0.4579\n",
            "Epoch 264/500\n",
            "24/24 [==============================] - 0s 4ms/step - loss: 1.1758 - accuracy: 0.4865 - val_loss: 1.2097 - val_accuracy: 0.4548\n",
            "Epoch 265/500\n",
            "24/24 [==============================] - 0s 4ms/step - loss: 1.1752 - accuracy: 0.4810 - val_loss: 1.2103 - val_accuracy: 0.4541\n",
            "Epoch 266/500\n",
            "24/24 [==============================] - 0s 4ms/step - loss: 1.1786 - accuracy: 0.4822 - val_loss: 1.2105 - val_accuracy: 0.4514\n",
            "Epoch 267/500\n",
            "24/24 [==============================] - 0s 4ms/step - loss: 1.1750 - accuracy: 0.4787 - val_loss: 1.2092 - val_accuracy: 0.4524\n",
            "Epoch 268/500\n",
            "24/24 [==============================] - 0s 5ms/step - loss: 1.1752 - accuracy: 0.4821 - val_loss: 1.2084 - val_accuracy: 0.4555\n",
            "Epoch 269/500\n",
            "24/24 [==============================] - 0s 4ms/step - loss: 1.1765 - accuracy: 0.4783 - val_loss: 1.2094 - val_accuracy: 0.4559\n",
            "Epoch 270/500\n",
            "24/24 [==============================] - 0s 4ms/step - loss: 1.1755 - accuracy: 0.4794 - val_loss: 1.2089 - val_accuracy: 0.4569\n",
            "Epoch 271/500\n",
            "24/24 [==============================] - 0s 4ms/step - loss: 1.1763 - accuracy: 0.4844 - val_loss: 1.2087 - val_accuracy: 0.4579\n",
            "Epoch 272/500\n",
            "24/24 [==============================] - 0s 4ms/step - loss: 1.1752 - accuracy: 0.4800 - val_loss: 1.2086 - val_accuracy: 0.4514\n",
            "Epoch 273/500\n",
            "24/24 [==============================] - 0s 5ms/step - loss: 1.1751 - accuracy: 0.4819 - val_loss: 1.2079 - val_accuracy: 0.4586\n",
            "Epoch 274/500\n",
            "24/24 [==============================] - 0s 4ms/step - loss: 1.1761 - accuracy: 0.4790 - val_loss: 1.2099 - val_accuracy: 0.4559\n",
            "Epoch 275/500\n",
            "24/24 [==============================] - 0s 4ms/step - loss: 1.1753 - accuracy: 0.4810 - val_loss: 1.2085 - val_accuracy: 0.4572\n",
            "Epoch 276/500\n",
            "24/24 [==============================] - 0s 4ms/step - loss: 1.1751 - accuracy: 0.4807 - val_loss: 1.2094 - val_accuracy: 0.4531\n",
            "Epoch 277/500\n",
            "24/24 [==============================] - 0s 4ms/step - loss: 1.1755 - accuracy: 0.4800 - val_loss: 1.2108 - val_accuracy: 0.4535\n",
            "Epoch 278/500\n",
            "24/24 [==============================] - 0s 4ms/step - loss: 1.1750 - accuracy: 0.4841 - val_loss: 1.2082 - val_accuracy: 0.4572\n",
            "Epoch 279/500\n",
            "24/24 [==============================] - 0s 5ms/step - loss: 1.1750 - accuracy: 0.4834 - val_loss: 1.2096 - val_accuracy: 0.4565\n",
            "Epoch 280/500\n",
            "24/24 [==============================] - 0s 4ms/step - loss: 1.1751 - accuracy: 0.4787 - val_loss: 1.2080 - val_accuracy: 0.4614\n",
            "Epoch 281/500\n",
            "24/24 [==============================] - 0s 4ms/step - loss: 1.1749 - accuracy: 0.4795 - val_loss: 1.2085 - val_accuracy: 0.4593\n",
            "Epoch 282/500\n",
            "24/24 [==============================] - 0s 4ms/step - loss: 1.1744 - accuracy: 0.4831 - val_loss: 1.2084 - val_accuracy: 0.4559\n",
            "Epoch 283/500\n",
            "24/24 [==============================] - 0s 4ms/step - loss: 1.1763 - accuracy: 0.4805 - val_loss: 1.2090 - val_accuracy: 0.4569\n",
            "Epoch 284/500\n",
            "24/24 [==============================] - 0s 4ms/step - loss: 1.1754 - accuracy: 0.4831 - val_loss: 1.2084 - val_accuracy: 0.4596\n",
            "Epoch 285/500\n",
            "24/24 [==============================] - 0s 4ms/step - loss: 1.1740 - accuracy: 0.4822 - val_loss: 1.2109 - val_accuracy: 0.4603\n",
            "Epoch 286/500\n",
            "24/24 [==============================] - 0s 4ms/step - loss: 1.1761 - accuracy: 0.4827 - val_loss: 1.2084 - val_accuracy: 0.4565\n",
            "Epoch 287/500\n",
            "24/24 [==============================] - 0s 4ms/step - loss: 1.1744 - accuracy: 0.4819 - val_loss: 1.2093 - val_accuracy: 0.4583\n",
            "Epoch 288/500\n",
            "24/24 [==============================] - 0s 5ms/step - loss: 1.1749 - accuracy: 0.4821 - val_loss: 1.2097 - val_accuracy: 0.4559\n",
            "Epoch 289/500\n",
            "24/24 [==============================] - 0s 6ms/step - loss: 1.1744 - accuracy: 0.4838 - val_loss: 1.2121 - val_accuracy: 0.4559\n",
            "Epoch 290/500\n",
            "24/24 [==============================] - 0s 5ms/step - loss: 1.1760 - accuracy: 0.4787 - val_loss: 1.2091 - val_accuracy: 0.4521\n",
            "Epoch 291/500\n",
            "24/24 [==============================] - 0s 6ms/step - loss: 1.1751 - accuracy: 0.4843 - val_loss: 1.2080 - val_accuracy: 0.4600\n",
            "Epoch 292/500\n",
            "24/24 [==============================] - 0s 4ms/step - loss: 1.1748 - accuracy: 0.4866 - val_loss: 1.2077 - val_accuracy: 0.4583\n",
            "Epoch 293/500\n",
            "24/24 [==============================] - 0s 4ms/step - loss: 1.1745 - accuracy: 0.4805 - val_loss: 1.2090 - val_accuracy: 0.4562\n",
            "Epoch 294/500\n",
            "24/24 [==============================] - 0s 4ms/step - loss: 1.1743 - accuracy: 0.4821 - val_loss: 1.2094 - val_accuracy: 0.4545\n",
            "Epoch 295/500\n",
            "24/24 [==============================] - 0s 4ms/step - loss: 1.1757 - accuracy: 0.4804 - val_loss: 1.2081 - val_accuracy: 0.4569\n",
            "Epoch 296/500\n",
            "24/24 [==============================] - 0s 4ms/step - loss: 1.1740 - accuracy: 0.4821 - val_loss: 1.2096 - val_accuracy: 0.4514\n",
            "Epoch 297/500\n",
            "24/24 [==============================] - 0s 4ms/step - loss: 1.1744 - accuracy: 0.4758 - val_loss: 1.2107 - val_accuracy: 0.4579\n",
            "Epoch 298/500\n",
            "24/24 [==============================] - 0s 4ms/step - loss: 1.1753 - accuracy: 0.4836 - val_loss: 1.2084 - val_accuracy: 0.4555\n",
            "Epoch 299/500\n",
            "24/24 [==============================] - 0s 4ms/step - loss: 1.1738 - accuracy: 0.4865 - val_loss: 1.2096 - val_accuracy: 0.4572\n",
            "Epoch 300/500\n",
            "24/24 [==============================] - 0s 4ms/step - loss: 1.1736 - accuracy: 0.4829 - val_loss: 1.2086 - val_accuracy: 0.4583\n",
            "Epoch 301/500\n",
            "24/24 [==============================] - 0s 5ms/step - loss: 1.1741 - accuracy: 0.4810 - val_loss: 1.2086 - val_accuracy: 0.4579\n",
            "Epoch 302/500\n",
            "24/24 [==============================] - 0s 4ms/step - loss: 1.1750 - accuracy: 0.4822 - val_loss: 1.2087 - val_accuracy: 0.4579\n",
            "Epoch 303/500\n",
            "24/24 [==============================] - 0s 4ms/step - loss: 1.1742 - accuracy: 0.4860 - val_loss: 1.2088 - val_accuracy: 0.4572\n",
            "Epoch 304/500\n",
            "24/24 [==============================] - 0s 4ms/step - loss: 1.1736 - accuracy: 0.4838 - val_loss: 1.2079 - val_accuracy: 0.4583\n",
            "Epoch 305/500\n",
            "24/24 [==============================] - 0s 4ms/step - loss: 1.1740 - accuracy: 0.4826 - val_loss: 1.2078 - val_accuracy: 0.4545\n",
            "Epoch 306/500\n",
            "24/24 [==============================] - 0s 4ms/step - loss: 1.1739 - accuracy: 0.4834 - val_loss: 1.2080 - val_accuracy: 0.4524\n",
            "Epoch 307/500\n",
            "24/24 [==============================] - 0s 11ms/step - loss: 1.1741 - accuracy: 0.4858 - val_loss: 1.2080 - val_accuracy: 0.4504\n",
            "Epoch 308/500\n",
            "24/24 [==============================] - 0s 5ms/step - loss: 1.1750 - accuracy: 0.4849 - val_loss: 1.2078 - val_accuracy: 0.4569\n",
            "Epoch 309/500\n",
            "24/24 [==============================] - 0s 4ms/step - loss: 1.1747 - accuracy: 0.4814 - val_loss: 1.2095 - val_accuracy: 0.4541\n",
            "Epoch 310/500\n",
            "24/24 [==============================] - 0s 4ms/step - loss: 1.1745 - accuracy: 0.4804 - val_loss: 1.2081 - val_accuracy: 0.4583\n",
            "Epoch 311/500\n",
            "24/24 [==============================] - 0s 4ms/step - loss: 1.1735 - accuracy: 0.4843 - val_loss: 1.2074 - val_accuracy: 0.4559\n",
            "Epoch 312/500\n",
            "24/24 [==============================] - 0s 5ms/step - loss: 1.1739 - accuracy: 0.4846 - val_loss: 1.2064 - val_accuracy: 0.4559\n",
            "Epoch 313/500\n",
            "24/24 [==============================] - 1s 23ms/step - loss: 1.1739 - accuracy: 0.4843 - val_loss: 1.2088 - val_accuracy: 0.4548\n",
            "Epoch 314/500\n",
            "24/24 [==============================] - 0s 6ms/step - loss: 1.1743 - accuracy: 0.4819 - val_loss: 1.2084 - val_accuracy: 0.4552\n",
            "Epoch 315/500\n",
            "24/24 [==============================] - 0s 7ms/step - loss: 1.1739 - accuracy: 0.4858 - val_loss: 1.2067 - val_accuracy: 0.4562\n",
            "Epoch 316/500\n",
            "24/24 [==============================] - 0s 5ms/step - loss: 1.1736 - accuracy: 0.4832 - val_loss: 1.2073 - val_accuracy: 0.4579\n",
            "Epoch 317/500\n",
            "24/24 [==============================] - 0s 20ms/step - loss: 1.1737 - accuracy: 0.4832 - val_loss: 1.2069 - val_accuracy: 0.4579\n",
            "Epoch 318/500\n",
            "24/24 [==============================] - 0s 10ms/step - loss: 1.1739 - accuracy: 0.4858 - val_loss: 1.2085 - val_accuracy: 0.4579\n",
            "Epoch 319/500\n",
            "24/24 [==============================] - 0s 8ms/step - loss: 1.1726 - accuracy: 0.4807 - val_loss: 1.2074 - val_accuracy: 0.4555\n",
            "Epoch 320/500\n",
            "24/24 [==============================] - 0s 6ms/step - loss: 1.1734 - accuracy: 0.4856 - val_loss: 1.2067 - val_accuracy: 0.4528\n",
            "Epoch 321/500\n",
            "24/24 [==============================] - 0s 8ms/step - loss: 1.1734 - accuracy: 0.4870 - val_loss: 1.2070 - val_accuracy: 0.4545\n",
            "Epoch 322/500\n",
            "24/24 [==============================] - 0s 8ms/step - loss: 1.1737 - accuracy: 0.4843 - val_loss: 1.2073 - val_accuracy: 0.4559\n",
            "Epoch 323/500\n",
            "24/24 [==============================] - 0s 8ms/step - loss: 1.1729 - accuracy: 0.4843 - val_loss: 1.2077 - val_accuracy: 0.4569\n",
            "Epoch 324/500\n",
            "24/24 [==============================] - 0s 8ms/step - loss: 1.1729 - accuracy: 0.4856 - val_loss: 1.2066 - val_accuracy: 0.4559\n",
            "Epoch 325/500\n",
            "24/24 [==============================] - 0s 7ms/step - loss: 1.1727 - accuracy: 0.4810 - val_loss: 1.2080 - val_accuracy: 0.4555\n",
            "Epoch 326/500\n",
            "24/24 [==============================] - 0s 6ms/step - loss: 1.1725 - accuracy: 0.4836 - val_loss: 1.2074 - val_accuracy: 0.4638\n",
            "Epoch 327/500\n",
            "24/24 [==============================] - 0s 4ms/step - loss: 1.1741 - accuracy: 0.4836 - val_loss: 1.2070 - val_accuracy: 0.4559\n",
            "Epoch 328/500\n",
            "24/24 [==============================] - 0s 4ms/step - loss: 1.1735 - accuracy: 0.4809 - val_loss: 1.2070 - val_accuracy: 0.4589\n",
            "Epoch 329/500\n",
            "24/24 [==============================] - 0s 5ms/step - loss: 1.1723 - accuracy: 0.4863 - val_loss: 1.2068 - val_accuracy: 0.4559\n",
            "Epoch 330/500\n",
            "24/24 [==============================] - 0s 4ms/step - loss: 1.1722 - accuracy: 0.4878 - val_loss: 1.2072 - val_accuracy: 0.4562\n",
            "Epoch 331/500\n",
            "24/24 [==============================] - 0s 5ms/step - loss: 1.1722 - accuracy: 0.4844 - val_loss: 1.2067 - val_accuracy: 0.4565\n",
            "Epoch 332/500\n",
            "24/24 [==============================] - 0s 5ms/step - loss: 1.1726 - accuracy: 0.4834 - val_loss: 1.2074 - val_accuracy: 0.4579\n",
            "Epoch 333/500\n",
            "24/24 [==============================] - 0s 4ms/step - loss: 1.1738 - accuracy: 0.4848 - val_loss: 1.2060 - val_accuracy: 0.4559\n",
            "Epoch 334/500\n",
            "24/24 [==============================] - 0s 4ms/step - loss: 1.1732 - accuracy: 0.4812 - val_loss: 1.2071 - val_accuracy: 0.4565\n",
            "Epoch 335/500\n",
            "24/24 [==============================] - 0s 4ms/step - loss: 1.1726 - accuracy: 0.4861 - val_loss: 1.2061 - val_accuracy: 0.4517\n",
            "Epoch 336/500\n",
            "24/24 [==============================] - 0s 4ms/step - loss: 1.1729 - accuracy: 0.4829 - val_loss: 1.2064 - val_accuracy: 0.4593\n",
            "Epoch 337/500\n",
            "24/24 [==============================] - 0s 4ms/step - loss: 1.1722 - accuracy: 0.4846 - val_loss: 1.2067 - val_accuracy: 0.4593\n",
            "Epoch 338/500\n",
            "24/24 [==============================] - 0s 5ms/step - loss: 1.1727 - accuracy: 0.4826 - val_loss: 1.2055 - val_accuracy: 0.4548\n",
            "Epoch 339/500\n",
            "24/24 [==============================] - 0s 4ms/step - loss: 1.1727 - accuracy: 0.4875 - val_loss: 1.2057 - val_accuracy: 0.4531\n",
            "Epoch 340/500\n",
            "24/24 [==============================] - 0s 5ms/step - loss: 1.1711 - accuracy: 0.4853 - val_loss: 1.2062 - val_accuracy: 0.4620\n",
            "Epoch 341/500\n",
            "24/24 [==============================] - 0s 7ms/step - loss: 1.1718 - accuracy: 0.4844 - val_loss: 1.2057 - val_accuracy: 0.4586\n",
            "Epoch 342/500\n",
            "24/24 [==============================] - 0s 4ms/step - loss: 1.1720 - accuracy: 0.4861 - val_loss: 1.2063 - val_accuracy: 0.4562\n",
            "Epoch 343/500\n",
            "24/24 [==============================] - 0s 4ms/step - loss: 1.1729 - accuracy: 0.4824 - val_loss: 1.2050 - val_accuracy: 0.4524\n",
            "Epoch 344/500\n",
            "24/24 [==============================] - 0s 4ms/step - loss: 1.1727 - accuracy: 0.4854 - val_loss: 1.2057 - val_accuracy: 0.4583\n",
            "Epoch 345/500\n",
            "24/24 [==============================] - 0s 6ms/step - loss: 1.1722 - accuracy: 0.4848 - val_loss: 1.2051 - val_accuracy: 0.4538\n",
            "Epoch 346/500\n",
            "24/24 [==============================] - 0s 4ms/step - loss: 1.1708 - accuracy: 0.4878 - val_loss: 1.2055 - val_accuracy: 0.4586\n",
            "Epoch 347/500\n",
            "24/24 [==============================] - 0s 4ms/step - loss: 1.1708 - accuracy: 0.4882 - val_loss: 1.2060 - val_accuracy: 0.4596\n",
            "Epoch 348/500\n",
            "24/24 [==============================] - 0s 4ms/step - loss: 1.1729 - accuracy: 0.4876 - val_loss: 1.2054 - val_accuracy: 0.4545\n",
            "Epoch 349/500\n",
            "24/24 [==============================] - 0s 5ms/step - loss: 1.1720 - accuracy: 0.4807 - val_loss: 1.2061 - val_accuracy: 0.4600\n",
            "Epoch 350/500\n",
            "24/24 [==============================] - 0s 4ms/step - loss: 1.1714 - accuracy: 0.4876 - val_loss: 1.2057 - val_accuracy: 0.4593\n",
            "Epoch 351/500\n",
            "24/24 [==============================] - 0s 4ms/step - loss: 1.1708 - accuracy: 0.4880 - val_loss: 1.2055 - val_accuracy: 0.4555\n",
            "Epoch 352/500\n",
            "24/24 [==============================] - 0s 4ms/step - loss: 1.1716 - accuracy: 0.4860 - val_loss: 1.2056 - val_accuracy: 0.4555\n",
            "Epoch 353/500\n",
            "24/24 [==============================] - 0s 5ms/step - loss: 1.1709 - accuracy: 0.4824 - val_loss: 1.2076 - val_accuracy: 0.4559\n",
            "Epoch 354/500\n",
            "24/24 [==============================] - 0s 4ms/step - loss: 1.1715 - accuracy: 0.4827 - val_loss: 1.2058 - val_accuracy: 0.4559\n",
            "Epoch 355/500\n",
            "24/24 [==============================] - 0s 5ms/step - loss: 1.1717 - accuracy: 0.4831 - val_loss: 1.2058 - val_accuracy: 0.4589\n",
            "Epoch 356/500\n",
            "24/24 [==============================] - 0s 4ms/step - loss: 1.1713 - accuracy: 0.4868 - val_loss: 1.2061 - val_accuracy: 0.4583\n",
            "Epoch 357/500\n",
            "24/24 [==============================] - 0s 4ms/step - loss: 1.1715 - accuracy: 0.4865 - val_loss: 1.2056 - val_accuracy: 0.4569\n",
            "Epoch 358/500\n",
            "24/24 [==============================] - 0s 5ms/step - loss: 1.1708 - accuracy: 0.4871 - val_loss: 1.2054 - val_accuracy: 0.4545\n",
            "Epoch 359/500\n",
            "24/24 [==============================] - 0s 4ms/step - loss: 1.1713 - accuracy: 0.4832 - val_loss: 1.2060 - val_accuracy: 0.4583\n",
            "Epoch 360/500\n",
            "24/24 [==============================] - 0s 5ms/step - loss: 1.1702 - accuracy: 0.4868 - val_loss: 1.2053 - val_accuracy: 0.4569\n",
            "Epoch 361/500\n",
            "24/24 [==============================] - 0s 4ms/step - loss: 1.1708 - accuracy: 0.4849 - val_loss: 1.2063 - val_accuracy: 0.4559\n",
            "Epoch 362/500\n",
            "24/24 [==============================] - 0s 4ms/step - loss: 1.1709 - accuracy: 0.4892 - val_loss: 1.2056 - val_accuracy: 0.4579\n",
            "Epoch 363/500\n",
            "24/24 [==============================] - 0s 4ms/step - loss: 1.1708 - accuracy: 0.4834 - val_loss: 1.2053 - val_accuracy: 0.4559\n",
            "Epoch 364/500\n",
            "24/24 [==============================] - 0s 4ms/step - loss: 1.1708 - accuracy: 0.4863 - val_loss: 1.2060 - val_accuracy: 0.4572\n",
            "Epoch 365/500\n",
            "24/24 [==============================] - 0s 6ms/step - loss: 1.1711 - accuracy: 0.4870 - val_loss: 1.2066 - val_accuracy: 0.4610\n",
            "Epoch 366/500\n",
            "24/24 [==============================] - 0s 4ms/step - loss: 1.1703 - accuracy: 0.4875 - val_loss: 1.2056 - val_accuracy: 0.4545\n",
            "Epoch 367/500\n",
            "24/24 [==============================] - 0s 5ms/step - loss: 1.1707 - accuracy: 0.4853 - val_loss: 1.2056 - val_accuracy: 0.4565\n",
            "Epoch 368/500\n",
            "24/24 [==============================] - 0s 5ms/step - loss: 1.1701 - accuracy: 0.4885 - val_loss: 1.2053 - val_accuracy: 0.4528\n",
            "Epoch 369/500\n",
            "24/24 [==============================] - 0s 4ms/step - loss: 1.1749 - accuracy: 0.4839 - val_loss: 1.2072 - val_accuracy: 0.4565\n",
            "Epoch 370/500\n",
            "24/24 [==============================] - 0s 5ms/step - loss: 1.1706 - accuracy: 0.4883 - val_loss: 1.2046 - val_accuracy: 0.4528\n",
            "Epoch 371/500\n",
            "24/24 [==============================] - 0s 4ms/step - loss: 1.1706 - accuracy: 0.4843 - val_loss: 1.2046 - val_accuracy: 0.4572\n",
            "Epoch 372/500\n",
            "24/24 [==============================] - 0s 4ms/step - loss: 1.1710 - accuracy: 0.4885 - val_loss: 1.2048 - val_accuracy: 0.4569\n",
            "Epoch 373/500\n",
            "24/24 [==============================] - 0s 5ms/step - loss: 1.1706 - accuracy: 0.4878 - val_loss: 1.2063 - val_accuracy: 0.4572\n",
            "Epoch 374/500\n",
            "24/24 [==============================] - 0s 4ms/step - loss: 1.1715 - accuracy: 0.4873 - val_loss: 1.2067 - val_accuracy: 0.4583\n",
            "Epoch 375/500\n",
            "24/24 [==============================] - 0s 5ms/step - loss: 1.1705 - accuracy: 0.4898 - val_loss: 1.2053 - val_accuracy: 0.4593\n",
            "Epoch 376/500\n",
            "24/24 [==============================] - 0s 4ms/step - loss: 1.1714 - accuracy: 0.4856 - val_loss: 1.2053 - val_accuracy: 0.4572\n",
            "Epoch 377/500\n",
            "24/24 [==============================] - 0s 4ms/step - loss: 1.1698 - accuracy: 0.4832 - val_loss: 1.2048 - val_accuracy: 0.4565\n",
            "Epoch 378/500\n",
            "24/24 [==============================] - 0s 5ms/step - loss: 1.1695 - accuracy: 0.4860 - val_loss: 1.2059 - val_accuracy: 0.4579\n",
            "Epoch 379/500\n",
            "24/24 [==============================] - 0s 4ms/step - loss: 1.1699 - accuracy: 0.4860 - val_loss: 1.2055 - val_accuracy: 0.4589\n",
            "Epoch 380/500\n",
            "24/24 [==============================] - 0s 4ms/step - loss: 1.1707 - accuracy: 0.4876 - val_loss: 1.2053 - val_accuracy: 0.4624\n",
            "Epoch 381/500\n",
            "24/24 [==============================] - 0s 4ms/step - loss: 1.1703 - accuracy: 0.4887 - val_loss: 1.2053 - val_accuracy: 0.4545\n",
            "Epoch 382/500\n",
            "24/24 [==============================] - 0s 5ms/step - loss: 1.1708 - accuracy: 0.4854 - val_loss: 1.2051 - val_accuracy: 0.4583\n",
            "Epoch 383/500\n",
            "24/24 [==============================] - 0s 5ms/step - loss: 1.1695 - accuracy: 0.4876 - val_loss: 1.2058 - val_accuracy: 0.4603\n",
            "Epoch 384/500\n",
            "24/24 [==============================] - 0s 4ms/step - loss: 1.1708 - accuracy: 0.4873 - val_loss: 1.2052 - val_accuracy: 0.4545\n",
            "Epoch 385/500\n",
            "24/24 [==============================] - 0s 4ms/step - loss: 1.1697 - accuracy: 0.4890 - val_loss: 1.2045 - val_accuracy: 0.4555\n",
            "Epoch 386/500\n",
            "24/24 [==============================] - 0s 5ms/step - loss: 1.1707 - accuracy: 0.4868 - val_loss: 1.2057 - val_accuracy: 0.4614\n",
            "Epoch 387/500\n",
            "24/24 [==============================] - 0s 4ms/step - loss: 1.1694 - accuracy: 0.4880 - val_loss: 1.2050 - val_accuracy: 0.4531\n",
            "Epoch 388/500\n",
            "24/24 [==============================] - 0s 4ms/step - loss: 1.1712 - accuracy: 0.4873 - val_loss: 1.2053 - val_accuracy: 0.4524\n",
            "Epoch 389/500\n",
            "24/24 [==============================] - 0s 5ms/step - loss: 1.1702 - accuracy: 0.4876 - val_loss: 1.2054 - val_accuracy: 0.4565\n",
            "Epoch 390/500\n",
            "24/24 [==============================] - 0s 5ms/step - loss: 1.1694 - accuracy: 0.4893 - val_loss: 1.2067 - val_accuracy: 0.4579\n",
            "Epoch 391/500\n",
            "24/24 [==============================] - 0s 4ms/step - loss: 1.1699 - accuracy: 0.4907 - val_loss: 1.2050 - val_accuracy: 0.4559\n",
            "Epoch 392/500\n",
            "24/24 [==============================] - 0s 4ms/step - loss: 1.1695 - accuracy: 0.4853 - val_loss: 1.2058 - val_accuracy: 0.4562\n",
            "Epoch 393/500\n",
            "24/24 [==============================] - 0s 5ms/step - loss: 1.1699 - accuracy: 0.4907 - val_loss: 1.2040 - val_accuracy: 0.4559\n",
            "Epoch 394/500\n",
            "24/24 [==============================] - 0s 4ms/step - loss: 1.1712 - accuracy: 0.4858 - val_loss: 1.2064 - val_accuracy: 0.4555\n",
            "Epoch 395/500\n",
            "24/24 [==============================] - 0s 5ms/step - loss: 1.1698 - accuracy: 0.4890 - val_loss: 1.2046 - val_accuracy: 0.4596\n",
            "Epoch 396/500\n",
            "24/24 [==============================] - 0s 4ms/step - loss: 1.1695 - accuracy: 0.4890 - val_loss: 1.2060 - val_accuracy: 0.4559\n",
            "Epoch 397/500\n",
            "24/24 [==============================] - 0s 4ms/step - loss: 1.1693 - accuracy: 0.4863 - val_loss: 1.2043 - val_accuracy: 0.4596\n",
            "Epoch 398/500\n",
            "24/24 [==============================] - 0s 4ms/step - loss: 1.1690 - accuracy: 0.4880 - val_loss: 1.2043 - val_accuracy: 0.4555\n",
            "Epoch 399/500\n",
            "24/24 [==============================] - 0s 4ms/step - loss: 1.1697 - accuracy: 0.4882 - val_loss: 1.2056 - val_accuracy: 0.4600\n",
            "Epoch 400/500\n",
            "24/24 [==============================] - 0s 4ms/step - loss: 1.1693 - accuracy: 0.4890 - val_loss: 1.2044 - val_accuracy: 0.4521\n",
            "Epoch 401/500\n",
            "24/24 [==============================] - 0s 4ms/step - loss: 1.1706 - accuracy: 0.4854 - val_loss: 1.2055 - val_accuracy: 0.4548\n",
            "Epoch 402/500\n",
            "24/24 [==============================] - 0s 4ms/step - loss: 1.1700 - accuracy: 0.4895 - val_loss: 1.2048 - val_accuracy: 0.4552\n",
            "Epoch 403/500\n",
            "24/24 [==============================] - 0s 5ms/step - loss: 1.1689 - accuracy: 0.4866 - val_loss: 1.2049 - val_accuracy: 0.4538\n",
            "Epoch 404/500\n",
            "24/24 [==============================] - 0s 4ms/step - loss: 1.1688 - accuracy: 0.4865 - val_loss: 1.2039 - val_accuracy: 0.4535\n",
            "Epoch 405/500\n",
            "24/24 [==============================] - 0s 5ms/step - loss: 1.1703 - accuracy: 0.4865 - val_loss: 1.2050 - val_accuracy: 0.4541\n",
            "Epoch 406/500\n",
            "24/24 [==============================] - 0s 4ms/step - loss: 1.1690 - accuracy: 0.4853 - val_loss: 1.2044 - val_accuracy: 0.4531\n",
            "Epoch 407/500\n",
            "24/24 [==============================] - 0s 4ms/step - loss: 1.1694 - accuracy: 0.4892 - val_loss: 1.2036 - val_accuracy: 0.4576\n",
            "Epoch 408/500\n",
            "24/24 [==============================] - 0s 4ms/step - loss: 1.1698 - accuracy: 0.4871 - val_loss: 1.2034 - val_accuracy: 0.4589\n",
            "Epoch 409/500\n",
            "24/24 [==============================] - 0s 4ms/step - loss: 1.1685 - accuracy: 0.4851 - val_loss: 1.2038 - val_accuracy: 0.4600\n",
            "Epoch 410/500\n",
            "24/24 [==============================] - 0s 4ms/step - loss: 1.1716 - accuracy: 0.4876 - val_loss: 1.2058 - val_accuracy: 0.4593\n",
            "Epoch 411/500\n",
            "24/24 [==============================] - 0s 5ms/step - loss: 1.1693 - accuracy: 0.4878 - val_loss: 1.2041 - val_accuracy: 0.4607\n",
            "Epoch 412/500\n",
            "24/24 [==============================] - 0s 5ms/step - loss: 1.1684 - accuracy: 0.4892 - val_loss: 1.2037 - val_accuracy: 0.4614\n",
            "Epoch 413/500\n",
            "24/24 [==============================] - 0s 5ms/step - loss: 1.1691 - accuracy: 0.4883 - val_loss: 1.2038 - val_accuracy: 0.4569\n",
            "Epoch 414/500\n",
            "24/24 [==============================] - 0s 4ms/step - loss: 1.1685 - accuracy: 0.4871 - val_loss: 1.2064 - val_accuracy: 0.4593\n",
            "Epoch 415/500\n",
            "24/24 [==============================] - 0s 4ms/step - loss: 1.1689 - accuracy: 0.4866 - val_loss: 1.2034 - val_accuracy: 0.4538\n",
            "Epoch 416/500\n",
            "24/24 [==============================] - 0s 6ms/step - loss: 1.1690 - accuracy: 0.4838 - val_loss: 1.2045 - val_accuracy: 0.4548\n",
            "Epoch 417/500\n",
            "24/24 [==============================] - 0s 8ms/step - loss: 1.1692 - accuracy: 0.4858 - val_loss: 1.2037 - val_accuracy: 0.4596\n",
            "Epoch 418/500\n",
            "24/24 [==============================] - 0s 7ms/step - loss: 1.1694 - accuracy: 0.4900 - val_loss: 1.2031 - val_accuracy: 0.4579\n",
            "Epoch 419/500\n",
            "24/24 [==============================] - 0s 8ms/step - loss: 1.1686 - accuracy: 0.4846 - val_loss: 1.2051 - val_accuracy: 0.4559\n",
            "Epoch 420/500\n",
            "24/24 [==============================] - 0s 7ms/step - loss: 1.1696 - accuracy: 0.4866 - val_loss: 1.2044 - val_accuracy: 0.4562\n",
            "Epoch 421/500\n",
            "24/24 [==============================] - 0s 8ms/step - loss: 1.1684 - accuracy: 0.4882 - val_loss: 1.2041 - val_accuracy: 0.4552\n",
            "Epoch 422/500\n",
            "24/24 [==============================] - 0s 5ms/step - loss: 1.1704 - accuracy: 0.4873 - val_loss: 1.2053 - val_accuracy: 0.4559\n",
            "Epoch 423/500\n",
            "24/24 [==============================] - 0s 7ms/step - loss: 1.1690 - accuracy: 0.4917 - val_loss: 1.2031 - val_accuracy: 0.4579\n",
            "Epoch 424/500\n",
            "24/24 [==============================] - 0s 8ms/step - loss: 1.1691 - accuracy: 0.4892 - val_loss: 1.2034 - val_accuracy: 0.4541\n",
            "Epoch 425/500\n",
            "24/24 [==============================] - 0s 6ms/step - loss: 1.1684 - accuracy: 0.4895 - val_loss: 1.2032 - val_accuracy: 0.4596\n",
            "Epoch 426/500\n",
            "24/24 [==============================] - 0s 7ms/step - loss: 1.1685 - accuracy: 0.4856 - val_loss: 1.2037 - val_accuracy: 0.4572\n",
            "Epoch 427/500\n",
            "24/24 [==============================] - 0s 8ms/step - loss: 1.1685 - accuracy: 0.4863 - val_loss: 1.2042 - val_accuracy: 0.4535\n",
            "Epoch 428/500\n",
            "24/24 [==============================] - 0s 8ms/step - loss: 1.1681 - accuracy: 0.4897 - val_loss: 1.2058 - val_accuracy: 0.4531\n",
            "Epoch 429/500\n",
            "24/24 [==============================] - 0s 6ms/step - loss: 1.1703 - accuracy: 0.4885 - val_loss: 1.2044 - val_accuracy: 0.4562\n",
            "Epoch 430/500\n",
            "24/24 [==============================] - 0s 6ms/step - loss: 1.1681 - accuracy: 0.4909 - val_loss: 1.2035 - val_accuracy: 0.4572\n",
            "Epoch 431/500\n",
            "24/24 [==============================] - 0s 6ms/step - loss: 1.1679 - accuracy: 0.4885 - val_loss: 1.2042 - val_accuracy: 0.4572\n",
            "Epoch 432/500\n",
            "24/24 [==============================] - 0s 7ms/step - loss: 1.1696 - accuracy: 0.4849 - val_loss: 1.2034 - val_accuracy: 0.4589\n",
            "Epoch 433/500\n",
            "24/24 [==============================] - 0s 8ms/step - loss: 1.1705 - accuracy: 0.4926 - val_loss: 1.2037 - val_accuracy: 0.4524\n",
            "Epoch 434/500\n",
            "24/24 [==============================] - 0s 7ms/step - loss: 1.1683 - accuracy: 0.4890 - val_loss: 1.2050 - val_accuracy: 0.4593\n",
            "Epoch 435/500\n",
            "24/24 [==============================] - 0s 5ms/step - loss: 1.1681 - accuracy: 0.4865 - val_loss: 1.2045 - val_accuracy: 0.4583\n",
            "Epoch 436/500\n",
            "24/24 [==============================] - 0s 4ms/step - loss: 1.1693 - accuracy: 0.4878 - val_loss: 1.2034 - val_accuracy: 0.4579\n",
            "Epoch 437/500\n",
            "24/24 [==============================] - 0s 4ms/step - loss: 1.1689 - accuracy: 0.4915 - val_loss: 1.2038 - val_accuracy: 0.4641\n",
            "Epoch 438/500\n",
            "24/24 [==============================] - 0s 4ms/step - loss: 1.1680 - accuracy: 0.4910 - val_loss: 1.2039 - val_accuracy: 0.4559\n",
            "Epoch 439/500\n",
            "24/24 [==============================] - 0s 4ms/step - loss: 1.1696 - accuracy: 0.4860 - val_loss: 1.2034 - val_accuracy: 0.4610\n",
            "Epoch 440/500\n",
            "24/24 [==============================] - 0s 4ms/step - loss: 1.1682 - accuracy: 0.4878 - val_loss: 1.2035 - val_accuracy: 0.4559\n",
            "Epoch 441/500\n",
            "24/24 [==============================] - 0s 6ms/step - loss: 1.1679 - accuracy: 0.4866 - val_loss: 1.2033 - val_accuracy: 0.4576\n",
            "Epoch 442/500\n",
            "24/24 [==============================] - 0s 5ms/step - loss: 1.1681 - accuracy: 0.4905 - val_loss: 1.2030 - val_accuracy: 0.4565\n",
            "Epoch 443/500\n",
            "24/24 [==============================] - 0s 5ms/step - loss: 1.1676 - accuracy: 0.4920 - val_loss: 1.2036 - val_accuracy: 0.4552\n",
            "Epoch 444/500\n",
            "24/24 [==============================] - 0s 4ms/step - loss: 1.1679 - accuracy: 0.4868 - val_loss: 1.2039 - val_accuracy: 0.4593\n",
            "Epoch 445/500\n",
            "24/24 [==============================] - 0s 4ms/step - loss: 1.1675 - accuracy: 0.4888 - val_loss: 1.2032 - val_accuracy: 0.4552\n",
            "Epoch 446/500\n",
            "24/24 [==============================] - 0s 4ms/step - loss: 1.1685 - accuracy: 0.4854 - val_loss: 1.2046 - val_accuracy: 0.4586\n",
            "Epoch 447/500\n",
            "24/24 [==============================] - 0s 4ms/step - loss: 1.1679 - accuracy: 0.4909 - val_loss: 1.2053 - val_accuracy: 0.4576\n",
            "Epoch 448/500\n",
            "24/24 [==============================] - 0s 5ms/step - loss: 1.1715 - accuracy: 0.4851 - val_loss: 1.2049 - val_accuracy: 0.4576\n",
            "Epoch 449/500\n",
            "24/24 [==============================] - 0s 4ms/step - loss: 1.1677 - accuracy: 0.4893 - val_loss: 1.2035 - val_accuracy: 0.4541\n",
            "Epoch 450/500\n",
            "24/24 [==============================] - 0s 5ms/step - loss: 1.1673 - accuracy: 0.4883 - val_loss: 1.2041 - val_accuracy: 0.4569\n",
            "Epoch 451/500\n",
            "24/24 [==============================] - 0s 4ms/step - loss: 1.1688 - accuracy: 0.4919 - val_loss: 1.2033 - val_accuracy: 0.4545\n",
            "Epoch 452/500\n",
            "24/24 [==============================] - 0s 4ms/step - loss: 1.1676 - accuracy: 0.4873 - val_loss: 1.2041 - val_accuracy: 0.4579\n",
            "Epoch 453/500\n",
            "24/24 [==============================] - 0s 5ms/step - loss: 1.1679 - accuracy: 0.4900 - val_loss: 1.2038 - val_accuracy: 0.4541\n",
            "Epoch 454/500\n",
            "24/24 [==============================] - 0s 5ms/step - loss: 1.1675 - accuracy: 0.4887 - val_loss: 1.2030 - val_accuracy: 0.4576\n",
            "Epoch 455/500\n",
            "24/24 [==============================] - 0s 4ms/step - loss: 1.1683 - accuracy: 0.4900 - val_loss: 1.2045 - val_accuracy: 0.4555\n",
            "Epoch 456/500\n",
            "24/24 [==============================] - 0s 4ms/step - loss: 1.1697 - accuracy: 0.4902 - val_loss: 1.2025 - val_accuracy: 0.4559\n",
            "Epoch 457/500\n",
            "24/24 [==============================] - 0s 4ms/step - loss: 1.1683 - accuracy: 0.4910 - val_loss: 1.2038 - val_accuracy: 0.4572\n",
            "Epoch 458/500\n",
            "24/24 [==============================] - 0s 4ms/step - loss: 1.1684 - accuracy: 0.4907 - val_loss: 1.2031 - val_accuracy: 0.4528\n",
            "Epoch 459/500\n",
            "24/24 [==============================] - 0s 4ms/step - loss: 1.1687 - accuracy: 0.4863 - val_loss: 1.2042 - val_accuracy: 0.4593\n",
            "Epoch 460/500\n",
            "24/24 [==============================] - 0s 5ms/step - loss: 1.1685 - accuracy: 0.4865 - val_loss: 1.2042 - val_accuracy: 0.4572\n",
            "Epoch 461/500\n",
            "24/24 [==============================] - 0s 4ms/step - loss: 1.1676 - accuracy: 0.4900 - val_loss: 1.2037 - val_accuracy: 0.4583\n",
            "Epoch 462/500\n",
            "24/24 [==============================] - 0s 4ms/step - loss: 1.1671 - accuracy: 0.4914 - val_loss: 1.2031 - val_accuracy: 0.4548\n",
            "Epoch 463/500\n",
            "24/24 [==============================] - 0s 4ms/step - loss: 1.1665 - accuracy: 0.4893 - val_loss: 1.2035 - val_accuracy: 0.4572\n",
            "Epoch 464/500\n",
            "24/24 [==============================] - 0s 4ms/step - loss: 1.1674 - accuracy: 0.4880 - val_loss: 1.2036 - val_accuracy: 0.4562\n",
            "Epoch 465/500\n",
            "24/24 [==============================] - 0s 5ms/step - loss: 1.1682 - accuracy: 0.4892 - val_loss: 1.2041 - val_accuracy: 0.4559\n",
            "Epoch 466/500\n",
            "24/24 [==============================] - 0s 4ms/step - loss: 1.1680 - accuracy: 0.4912 - val_loss: 1.2033 - val_accuracy: 0.4545\n",
            "Epoch 467/500\n",
            "24/24 [==============================] - 0s 5ms/step - loss: 1.1677 - accuracy: 0.4865 - val_loss: 1.2046 - val_accuracy: 0.4552\n",
            "Epoch 468/500\n",
            "24/24 [==============================] - 0s 4ms/step - loss: 1.1680 - accuracy: 0.4865 - val_loss: 1.2042 - val_accuracy: 0.4545\n",
            "Epoch 469/500\n",
            "24/24 [==============================] - 0s 6ms/step - loss: 1.1676 - accuracy: 0.4905 - val_loss: 1.2057 - val_accuracy: 0.4593\n",
            "Epoch 470/500\n",
            "24/24 [==============================] - 0s 4ms/step - loss: 1.1684 - accuracy: 0.4870 - val_loss: 1.2052 - val_accuracy: 0.4559\n",
            "Epoch 471/500\n",
            "24/24 [==============================] - 0s 4ms/step - loss: 1.1684 - accuracy: 0.4893 - val_loss: 1.2044 - val_accuracy: 0.4528\n",
            "Epoch 472/500\n",
            "24/24 [==============================] - 0s 4ms/step - loss: 1.1707 - accuracy: 0.4858 - val_loss: 1.2034 - val_accuracy: 0.4548\n",
            "Epoch 473/500\n",
            "24/24 [==============================] - 0s 4ms/step - loss: 1.1668 - accuracy: 0.4939 - val_loss: 1.2021 - val_accuracy: 0.4576\n",
            "Epoch 474/500\n",
            "24/24 [==============================] - 0s 5ms/step - loss: 1.1674 - accuracy: 0.4898 - val_loss: 1.2033 - val_accuracy: 0.4572\n",
            "Epoch 475/500\n",
            "24/24 [==============================] - 0s 5ms/step - loss: 1.1673 - accuracy: 0.4919 - val_loss: 1.2027 - val_accuracy: 0.4565\n",
            "Epoch 476/500\n",
            "24/24 [==============================] - 0s 4ms/step - loss: 1.1673 - accuracy: 0.4876 - val_loss: 1.2037 - val_accuracy: 0.4559\n",
            "Epoch 477/500\n",
            "24/24 [==============================] - 0s 4ms/step - loss: 1.1673 - accuracy: 0.4883 - val_loss: 1.2028 - val_accuracy: 0.4531\n",
            "Epoch 478/500\n",
            "24/24 [==============================] - 0s 6ms/step - loss: 1.1668 - accuracy: 0.4904 - val_loss: 1.2023 - val_accuracy: 0.4565\n",
            "Epoch 479/500\n",
            "24/24 [==============================] - 0s 4ms/step - loss: 1.1667 - accuracy: 0.4902 - val_loss: 1.2031 - val_accuracy: 0.4514\n",
            "Epoch 480/500\n",
            "24/24 [==============================] - 0s 4ms/step - loss: 1.1685 - accuracy: 0.4875 - val_loss: 1.2049 - val_accuracy: 0.4572\n",
            "Epoch 481/500\n",
            "24/24 [==============================] - 0s 4ms/step - loss: 1.1669 - accuracy: 0.4865 - val_loss: 1.2026 - val_accuracy: 0.4555\n",
            "Epoch 482/500\n",
            "24/24 [==============================] - 0s 4ms/step - loss: 1.1670 - accuracy: 0.4876 - val_loss: 1.2027 - val_accuracy: 0.4559\n",
            "Epoch 483/500\n",
            "24/24 [==============================] - 0s 4ms/step - loss: 1.1669 - accuracy: 0.4873 - val_loss: 1.2023 - val_accuracy: 0.4548\n",
            "Epoch 484/500\n",
            "24/24 [==============================] - 0s 5ms/step - loss: 1.1664 - accuracy: 0.4897 - val_loss: 1.2027 - val_accuracy: 0.4545\n",
            "Epoch 485/500\n",
            "24/24 [==============================] - 0s 5ms/step - loss: 1.1662 - accuracy: 0.4885 - val_loss: 1.2026 - val_accuracy: 0.4603\n",
            "Epoch 486/500\n",
            "24/24 [==============================] - 0s 4ms/step - loss: 1.1671 - accuracy: 0.4914 - val_loss: 1.2026 - val_accuracy: 0.4538\n",
            "Epoch 487/500\n",
            "24/24 [==============================] - 0s 7ms/step - loss: 1.1685 - accuracy: 0.4863 - val_loss: 1.2028 - val_accuracy: 0.4535\n",
            "Epoch 488/500\n",
            "24/24 [==============================] - 0s 5ms/step - loss: 1.1669 - accuracy: 0.4895 - val_loss: 1.2028 - val_accuracy: 0.4541\n",
            "Epoch 489/500\n",
            "24/24 [==============================] - 0s 4ms/step - loss: 1.1670 - accuracy: 0.4870 - val_loss: 1.2026 - val_accuracy: 0.4524\n",
            "Epoch 490/500\n",
            "24/24 [==============================] - 0s 5ms/step - loss: 1.1678 - accuracy: 0.4909 - val_loss: 1.2030 - val_accuracy: 0.4579\n",
            "Epoch 491/500\n",
            "24/24 [==============================] - 0s 5ms/step - loss: 1.1675 - accuracy: 0.4880 - val_loss: 1.2036 - val_accuracy: 0.4593\n",
            "Epoch 492/500\n",
            "24/24 [==============================] - 0s 5ms/step - loss: 1.1665 - accuracy: 0.4895 - val_loss: 1.2028 - val_accuracy: 0.4589\n",
            "Epoch 493/500\n",
            "24/24 [==============================] - 0s 5ms/step - loss: 1.1673 - accuracy: 0.4876 - val_loss: 1.2027 - val_accuracy: 0.4524\n",
            "Epoch 494/500\n",
            "24/24 [==============================] - 0s 4ms/step - loss: 1.1663 - accuracy: 0.4895 - val_loss: 1.2027 - val_accuracy: 0.4562\n",
            "Epoch 495/500\n",
            "24/24 [==============================] - 0s 7ms/step - loss: 1.1669 - accuracy: 0.4892 - val_loss: 1.2023 - val_accuracy: 0.4579\n",
            "Epoch 496/500\n",
            "24/24 [==============================] - 0s 4ms/step - loss: 1.1677 - accuracy: 0.4880 - val_loss: 1.2017 - val_accuracy: 0.4562\n",
            "Epoch 497/500\n",
            "24/24 [==============================] - 0s 5ms/step - loss: 1.1671 - accuracy: 0.4875 - val_loss: 1.2037 - val_accuracy: 0.4583\n",
            "Epoch 498/500\n",
            "24/24 [==============================] - 0s 4ms/step - loss: 1.1670 - accuracy: 0.4875 - val_loss: 1.2039 - val_accuracy: 0.4548\n",
            "Epoch 499/500\n",
            "24/24 [==============================] - 0s 7ms/step - loss: 1.1680 - accuracy: 0.4871 - val_loss: 1.2028 - val_accuracy: 0.4572\n",
            "Epoch 500/500\n",
            "24/24 [==============================] - 0s 4ms/step - loss: 1.1661 - accuracy: 0.4904 - val_loss: 1.2024 - val_accuracy: 0.4569\n"
          ]
        },
        {
          "output_type": "execute_result",
          "data": {
            "text/plain": [
              "<keras.callbacks.History at 0x7b4ab8f30100>"
            ]
          },
          "metadata": {},
          "execution_count": 111
        }
      ]
    },
    {
      "cell_type": "code",
      "source": [
        "metrics = pd.DataFrame(ai_brain.history.history)"
      ],
      "metadata": {
        "id": "TGHp8JS-fVIf"
      },
      "execution_count": 112,
      "outputs": []
    },
    {
      "cell_type": "code",
      "source": [
        "metrics.head()"
      ],
      "metadata": {
        "colab": {
          "base_uri": "https://localhost:8080/",
          "height": 221
        },
        "id": "h1HGaNkafVKv",
        "outputId": "840f975a-5df0-49cf-cac6-f7f42d684b64"
      },
      "execution_count": 113,
      "outputs": [
        {
          "output_type": "execute_result",
          "data": {
            "text/plain": [
              "       loss  accuracy  val_loss  val_accuracy\n",
              "0  1.888063  0.230196  1.708466      0.250773\n",
              "1  1.587404  0.252370  1.505022      0.269323\n",
              "2  1.442052  0.283345  1.419212      0.305737\n",
              "3  1.382251  0.331077  1.382006      0.343525\n",
              "4  1.353745  0.359005  1.361918      0.364823"
            ],
            "text/html": [
              "\n",
              "  <div id=\"df-8ad24ffd-b1db-496c-af69-728279f2a6a7\" class=\"colab-df-container\">\n",
              "    <div>\n",
              "<style scoped>\n",
              "    .dataframe tbody tr th:only-of-type {\n",
              "        vertical-align: middle;\n",
              "    }\n",
              "\n",
              "    .dataframe tbody tr th {\n",
              "        vertical-align: top;\n",
              "    }\n",
              "\n",
              "    .dataframe thead th {\n",
              "        text-align: right;\n",
              "    }\n",
              "</style>\n",
              "<table border=\"1\" class=\"dataframe\">\n",
              "  <thead>\n",
              "    <tr style=\"text-align: right;\">\n",
              "      <th></th>\n",
              "      <th>loss</th>\n",
              "      <th>accuracy</th>\n",
              "      <th>val_loss</th>\n",
              "      <th>val_accuracy</th>\n",
              "    </tr>\n",
              "  </thead>\n",
              "  <tbody>\n",
              "    <tr>\n",
              "      <th>0</th>\n",
              "      <td>1.888063</td>\n",
              "      <td>0.230196</td>\n",
              "      <td>1.708466</td>\n",
              "      <td>0.250773</td>\n",
              "    </tr>\n",
              "    <tr>\n",
              "      <th>1</th>\n",
              "      <td>1.587404</td>\n",
              "      <td>0.252370</td>\n",
              "      <td>1.505022</td>\n",
              "      <td>0.269323</td>\n",
              "    </tr>\n",
              "    <tr>\n",
              "      <th>2</th>\n",
              "      <td>1.442052</td>\n",
              "      <td>0.283345</td>\n",
              "      <td>1.419212</td>\n",
              "      <td>0.305737</td>\n",
              "    </tr>\n",
              "    <tr>\n",
              "      <th>3</th>\n",
              "      <td>1.382251</td>\n",
              "      <td>0.331077</td>\n",
              "      <td>1.382006</td>\n",
              "      <td>0.343525</td>\n",
              "    </tr>\n",
              "    <tr>\n",
              "      <th>4</th>\n",
              "      <td>1.353745</td>\n",
              "      <td>0.359005</td>\n",
              "      <td>1.361918</td>\n",
              "      <td>0.364823</td>\n",
              "    </tr>\n",
              "  </tbody>\n",
              "</table>\n",
              "</div>\n",
              "    <div class=\"colab-df-buttons\">\n",
              "\n",
              "  <div class=\"colab-df-container\">\n",
              "    <button class=\"colab-df-convert\" onclick=\"convertToInteractive('df-8ad24ffd-b1db-496c-af69-728279f2a6a7')\"\n",
              "            title=\"Convert this dataframe to an interactive table.\"\n",
              "            style=\"display:none;\">\n",
              "\n",
              "  <svg xmlns=\"http://www.w3.org/2000/svg\" height=\"24px\" viewBox=\"0 -960 960 960\">\n",
              "    <path d=\"M120-120v-720h720v720H120Zm60-500h600v-160H180v160Zm220 220h160v-160H400v160Zm0 220h160v-160H400v160ZM180-400h160v-160H180v160Zm440 0h160v-160H620v160ZM180-180h160v-160H180v160Zm440 0h160v-160H620v160Z\"/>\n",
              "  </svg>\n",
              "    </button>\n",
              "\n",
              "  <style>\n",
              "    .colab-df-container {\n",
              "      display:flex;\n",
              "      gap: 12px;\n",
              "    }\n",
              "\n",
              "    .colab-df-convert {\n",
              "      background-color: #E8F0FE;\n",
              "      border: none;\n",
              "      border-radius: 50%;\n",
              "      cursor: pointer;\n",
              "      display: none;\n",
              "      fill: #1967D2;\n",
              "      height: 32px;\n",
              "      padding: 0 0 0 0;\n",
              "      width: 32px;\n",
              "    }\n",
              "\n",
              "    .colab-df-convert:hover {\n",
              "      background-color: #E2EBFA;\n",
              "      box-shadow: 0px 1px 2px rgba(60, 64, 67, 0.3), 0px 1px 3px 1px rgba(60, 64, 67, 0.15);\n",
              "      fill: #174EA6;\n",
              "    }\n",
              "\n",
              "    .colab-df-buttons div {\n",
              "      margin-bottom: 4px;\n",
              "    }\n",
              "\n",
              "    [theme=dark] .colab-df-convert {\n",
              "      background-color: #3B4455;\n",
              "      fill: #D2E3FC;\n",
              "    }\n",
              "\n",
              "    [theme=dark] .colab-df-convert:hover {\n",
              "      background-color: #434B5C;\n",
              "      box-shadow: 0px 1px 3px 1px rgba(0, 0, 0, 0.15);\n",
              "      filter: drop-shadow(0px 1px 2px rgba(0, 0, 0, 0.3));\n",
              "      fill: #FFFFFF;\n",
              "    }\n",
              "  </style>\n",
              "\n",
              "    <script>\n",
              "      const buttonEl =\n",
              "        document.querySelector('#df-8ad24ffd-b1db-496c-af69-728279f2a6a7 button.colab-df-convert');\n",
              "      buttonEl.style.display =\n",
              "        google.colab.kernel.accessAllowed ? 'block' : 'none';\n",
              "\n",
              "      async function convertToInteractive(key) {\n",
              "        const element = document.querySelector('#df-8ad24ffd-b1db-496c-af69-728279f2a6a7');\n",
              "        const dataTable =\n",
              "          await google.colab.kernel.invokeFunction('convertToInteractive',\n",
              "                                                    [key], {});\n",
              "        if (!dataTable) return;\n",
              "\n",
              "        const docLinkHtml = 'Like what you see? Visit the ' +\n",
              "          '<a target=\"_blank\" href=https://colab.research.google.com/notebooks/data_table.ipynb>data table notebook</a>'\n",
              "          + ' to learn more about interactive tables.';\n",
              "        element.innerHTML = '';\n",
              "        dataTable['output_type'] = 'display_data';\n",
              "        await google.colab.output.renderOutput(dataTable, element);\n",
              "        const docLink = document.createElement('div');\n",
              "        docLink.innerHTML = docLinkHtml;\n",
              "        element.appendChild(docLink);\n",
              "      }\n",
              "    </script>\n",
              "  </div>\n",
              "\n",
              "\n",
              "<div id=\"df-14c7f8e6-1ae3-4253-a0d9-4bc931d26101\">\n",
              "  <button class=\"colab-df-quickchart\" onclick=\"quickchart('df-14c7f8e6-1ae3-4253-a0d9-4bc931d26101')\"\n",
              "            title=\"Suggest charts.\"\n",
              "            style=\"display:none;\">\n",
              "\n",
              "<svg xmlns=\"http://www.w3.org/2000/svg\" height=\"24px\"viewBox=\"0 0 24 24\"\n",
              "     width=\"24px\">\n",
              "    <g>\n",
              "        <path d=\"M19 3H5c-1.1 0-2 .9-2 2v14c0 1.1.9 2 2 2h14c1.1 0 2-.9 2-2V5c0-1.1-.9-2-2-2zM9 17H7v-7h2v7zm4 0h-2V7h2v10zm4 0h-2v-4h2v4z\"/>\n",
              "    </g>\n",
              "</svg>\n",
              "  </button>\n",
              "\n",
              "<style>\n",
              "  .colab-df-quickchart {\n",
              "    background-color: #E8F0FE;\n",
              "    border: none;\n",
              "    border-radius: 50%;\n",
              "    cursor: pointer;\n",
              "    display: none;\n",
              "    fill: #1967D2;\n",
              "    height: 32px;\n",
              "    padding: 0 0 0 0;\n",
              "    width: 32px;\n",
              "  }\n",
              "\n",
              "  .colab-df-quickchart:hover {\n",
              "    background-color: #E2EBFA;\n",
              "    box-shadow: 0px 1px 2px rgba(60, 64, 67, 0.3), 0px 1px 3px 1px rgba(60, 64, 67, 0.15);\n",
              "    fill: #174EA6;\n",
              "  }\n",
              "\n",
              "  [theme=dark] .colab-df-quickchart {\n",
              "    background-color: #3B4455;\n",
              "    fill: #D2E3FC;\n",
              "  }\n",
              "\n",
              "  [theme=dark] .colab-df-quickchart:hover {\n",
              "    background-color: #434B5C;\n",
              "    box-shadow: 0px 1px 3px 1px rgba(0, 0, 0, 0.15);\n",
              "    filter: drop-shadow(0px 1px 2px rgba(0, 0, 0, 0.3));\n",
              "    fill: #FFFFFF;\n",
              "  }\n",
              "</style>\n",
              "\n",
              "  <script>\n",
              "    async function quickchart(key) {\n",
              "      const charts = await google.colab.kernel.invokeFunction(\n",
              "          'suggestCharts', [key], {});\n",
              "    }\n",
              "    (() => {\n",
              "      let quickchartButtonEl =\n",
              "        document.querySelector('#df-14c7f8e6-1ae3-4253-a0d9-4bc931d26101 button');\n",
              "      quickchartButtonEl.style.display =\n",
              "        google.colab.kernel.accessAllowed ? 'block' : 'none';\n",
              "    })();\n",
              "  </script>\n",
              "</div>\n",
              "    </div>\n",
              "  </div>\n"
            ]
          },
          "metadata": {},
          "execution_count": 113
        }
      ]
    },
    {
      "cell_type": "code",
      "source": [
        "metrics[['accuracy','val_accuracy']].plot()"
      ],
      "metadata": {
        "id": "L42mv9g0e6rz",
        "colab": {
          "base_uri": "https://localhost:8080/",
          "height": 467
        },
        "outputId": "14d33479-e519-4d3d-a4eb-cb49c548f93b"
      },
      "execution_count": 114,
      "outputs": [
        {
          "output_type": "execute_result",
          "data": {
            "text/plain": [
              "<Axes: >"
            ]
          },
          "metadata": {},
          "execution_count": 114
        },
        {
          "output_type": "display_data",
          "data": {
            "text/plain": [
              "<Figure size 640x480 with 1 Axes>"
            ],
            "image/png": "[encoded data removed]"
          },
          "metadata": {}
        }
      ]
    },
    {
      "cell_type": "code",
      "source": [
        "metrics[['loss','val_loss']].plot()"
      ],
      "metadata": {
        "colab": {
          "base_uri": "https://localhost:8080/",
          "height": 467
        },
        "id": "g7uBLpKhioUl",
        "outputId": "8fc77498-7f61-4f10-9abf-273785dbf7a8"
      },
      "execution_count": 115,
      "outputs": [
        {
          "output_type": "execute_result",
          "data": {
            "text/plain": [
              "<Axes: >"
            ]
          },
          "metadata": {},
          "execution_count": 115
        },
        {
          "output_type": "display_data",
          "data": {
            "text/plain": [
              "<Figure size 640x480 with 1 Axes>"
            ],
            "image/png": "[encoded data removed]"
          },
          "metadata": {}
        }
      ]
    },
    {
      "cell_type": "code",
      "source": [
        "# Sequential predict_classes function is deprecated\n",
        "# predictions = ai_brain.predict_classes(X_test)\n",
        "x_test_predictions = np.argmax(ai_brain.predict(X_test_scaled), axis=1)"
      ],
      "metadata": {
        "colab": {
          "base_uri": "https://localhost:8080/"
        },
        "id": "PqjMZ4hKioWH",
        "outputId": "c47a394b-88a9-4656-def1-6d5ec142f1d1"
      },
      "execution_count": 116,
      "outputs": [
        {
          "output_type": "stream",
          "name": "stdout",
          "text": [
            "91/91 [==============================] - 0s 1ms/step\n"
          ]
        }
      ]
    },
    {
      "cell_type": "code",
      "source": [
        "x_test_predictions.shape"
      ],
      "metadata": {
        "colab": {
          "base_uri": "https://localhost:8080/"
        },
        "id": "mhHNsx3ZioXg",
        "outputId": "3c559b55-db79-49aa-e422-f49b82b3a4dd"
      },
      "execution_count": 117,
      "outputs": [
        {
          "output_type": "execute_result",
          "data": {
            "text/plain": [
              "(2911,)"
            ]
          },
          "metadata": {},
          "execution_count": 117
        }
      ]
    },
    {
      "cell_type": "code",
      "source": [
        "y_test_truevalue = np.argmax(y_test,axis=1)\n",
        "\n",
        "y_test_truevalue.shape"
      ],
      "metadata": {
        "colab": {
          "base_uri": "https://localhost:8080/"
        },
        "id": "aDx9QJ8wioZz",
        "outputId": "cdd0dd22-384a-467b-c530-b71dcf85dd02"
      },
      "execution_count": 118,
      "outputs": [
        {
          "output_type": "execute_result",
          "data": {
            "text/plain": [
              "(2911,)"
            ]
          },
          "metadata": {},
          "execution_count": 118
        }
      ]
    },
    {
      "cell_type": "code",
      "source": [
        "print(confusion_matrix(y_test_truevalue,x_test_predictions))"
      ],
      "metadata": {
        "colab": {
          "base_uri": "https://localhost:8080/"
        },
        "id": "ycWBswVgiocW",
        "outputId": "ce64d001-68b5-489d-8e15-faf93a9fb264"
      },
      "execution_count": 119,
      "outputs": [
        {
          "output_type": "stream",
          "name": "stdout",
          "text": [
            "[[385 113 114 145]\n",
            " [252 154 187  93]\n",
            " [141 124 338  83]\n",
            " [222  61  46 453]]\n"
          ]
        }
      ]
    },
    {
      "cell_type": "code",
      "source": [
        "print(classification_report(y_test_truevalue,x_test_predictions))"
      ],
      "metadata": {
        "colab": {
          "base_uri": "https://localhost:8080/"
        },
        "id": "y5xUOZdli9ie",
        "outputId": "3a291289-05b8-4ff7-d882-ba1351ef0f58"
      },
      "execution_count": 120,
      "outputs": [
        {
          "output_type": "stream",
          "name": "stdout",
          "text": [
            "              precision    recall  f1-score   support\n",
            "\n",
            "           0       0.39      0.51      0.44       757\n",
            "           1       0.34      0.22      0.27       686\n",
            "           2       0.49      0.49      0.49       686\n",
            "           3       0.59      0.58      0.58       782\n",
            "\n",
            "    accuracy                           0.46      2911\n",
            "   macro avg       0.45      0.45      0.45      2911\n",
            "weighted avg       0.45      0.46      0.45      2911\n",
            "\n"
          ]
        }
      ]
    },
    {
      "cell_type": "code",
      "source": [
        "# Saving the Model\n",
        "ai_brain.save('customer_classification_model.h5')"
      ],
      "metadata": {
        "id": "7zZECp0ii9ka"
      },
      "execution_count": 121,
      "outputs": []
    },
    {
      "cell_type": "code",
      "source": [
        "# Saving the data\n",
        "with open('customer_data.pickle', 'wb') as fh:\n",
        "   pickle.dump([X_train_scaled,y_train,X_test_scaled,y_test,customers_1,customer_df_cleaned,scaler_age,enc,one_hot_enc,le], fh)"
      ],
      "metadata": {
        "id": "O8lKf7Czi9nC"
      },
      "execution_count": 122,
      "outputs": []
    },
    {
      "cell_type": "code",
      "source": [
        "# Loading the Model\n",
        "ai_brain = load_model('customer_classification_model.h5')"
      ],
      "metadata": {
        "id": "jsq0LE3ki9pZ"
      },
      "execution_count": 123,
      "outputs": []
    },
    {
      "cell_type": "code",
      "source": [
        "# Loading the data\n",
        "with open('customer_data.pickle', 'rb') as fh:\n",
        "   [X_train_scaled,y_train,X_test_scaled,y_test,customers_1,customer_df_cleaned,scaler_age,enc,one_hot_enc,le]=pickle.load(fh)"
      ],
      "metadata": {
        "id": "Wqc6pxKUjVf8"
      },
      "execution_count": 124,
      "outputs": []
    },
    {
      "cell_type": "markdown",
      "source": [
        "## Prediction for a single input"
      ],
      "metadata": {
        "id": "ie4SZ5HGjc5u"
      }
    },
    {
      "cell_type": "code",
      "source": [
        "x_single_prediction = np.argmax(ai_brain.predict(X_test_scaled[1:2,:]), axis=1)"
      ],
      "metadata": {
        "colab": {
          "base_uri": "https://localhost:8080/"
        },
        "id": "9NAp-HuKjVhk",
        "outputId": "9f9de70a-e57a-4c45-af51-b42e3643b7c5"
      },
      "execution_count": 125,
      "outputs": [
        {
          "output_type": "stream",
          "name": "stdout",
          "text": [
            "1/1 [==============================] - 0s 86ms/step\n"
          ]
        }
      ]
    },
    {
      "cell_type": "code",
      "source": [
        "print(x_single_prediction)"
      ],
      "metadata": {
        "colab": {
          "base_uri": "https://localhost:8080/"
        },
        "id": "yJ_HD0ahjVjo",
        "outputId": "223912a3-30da-438e-c72d-d556f8fa8b17"
      },
      "execution_count": 126,
      "outputs": [
        {
          "output_type": "stream",
          "name": "stdout",
          "text": [
            "[2]\n"
          ]
        }
      ]
    },
    {
      "cell_type": "code",
      "source": [
        "print(le.inverse_transform(x_single_prediction))"
      ],
      "metadata": {
        "colab": {
          "base_uri": "https://localhost:8080/"
        },
        "id": "CZX3QlLPjVlq",
        "outputId": "b738d259-a143-4f86-d964-1f9dab151946"
      },
      "execution_count": 127,
      "outputs": [
        {
          "output_type": "stream",
          "name": "stdout",
          "text": [
            "['C']\n"
          ]
        }
      ]
    }
  ]
}